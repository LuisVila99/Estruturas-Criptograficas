{
 "cells": [
  {
   "cell_type": "markdown",
   "metadata": {},
   "source": [
    "# NTRU"
   ]
  },
  {
   "cell_type": "markdown",
   "metadata": {},
   "source": [
    "## Imports"
   ]
  },
  {
   "cell_type": "code",
   "execution_count": 1,
   "metadata": {},
   "outputs": [],
   "source": [
    "from hashlib import sha256"
   ]
  },
  {
   "cell_type": "markdown",
   "metadata": {},
   "source": [
    "## NTRU\n",
    "\n",
    "### conv\n",
    "Operação de multiplicação utilizada em NTRU. É identica à multiplicação polinomial, porém reduz o output \"modulo x^n-1\", ou seja, x^n é substituído por 1, x^(n+1) por x, x^(n+2) por x^2, etc.\n",
    "Os inputs são dois polinomios de n coeficientes, ou seja, com membros de 1 até x^(n-1). O output também é um polinomial com n coeficientes, pois os elementos x^n, x^(n+1), x^(n+2), etc. foram eliminados.\n",
    "\n",
    "### balancedmod\n",
    "Esta função recebe como inputs um polinomial com n coeficientes e um integer positivo. O output é o mesmo polinomial, exceto\n",
    "que cada coeficiente é reduzido com módulo q. \n",
    "\n",
    "### randompoly\n",
    "A função randompoly() retorna um polinomial, onde exatamente d coeficientes são diferentes de 0 (d não são 0, e n - d são 0). É de ter em conta que todos os coeficientes do polinomio estão limitados a 1 e -1.\n",
    "\n",
    "### invertmodprime\n",
    "A função invertmodprime(f,p) recebe dois inputs: um polinomial com n coeficientes; um número primo p. O output é um polinómio g com n coeficientes de modo a que conv(f,g) seja 1 + p * u para um polinomial u. Esta função levanta uma exceção caso este polinómio g não exista.\n",
    "\n",
    "### invertmodpowerof2\n",
    "Função semelhante à invertmodprime(f,p) com a diferença que o segundo argumento têm de ser múltiplo de 2.\n",
    "\n",
    "### keypair\n",
    "Esta função retorna a chave pública NTRU h e as respectivas chaves secretas f,f3.\n",
    "\n",
    "### encrypt\n",
    "A função de cifragem recebe uma mensagem e a chave pública e retorna a mensagem cifrada. O texto cifrado é h * r + m modulo q, onde m é a mensagem e r é um polinomio random.\n",
    "\n",
    "### decrypt\n",
    "Função em que é decifrado o criptograma gerado pela cifragem de uma mensagem, recorrendo a uma chave privada.\n",
    "\n",
    "### wrap\n",
    "Onde se processa o encapsulamento de uma chave, assim como a geração de um criptograma a partir da cifragem de um polinómio aleatório com uma chave pública. É aplicado o algoritmo *sha256* sobre o polinómio gerado.\n",
    "\n",
    "### unwrap\n",
    "Onde se processa o desencapsulamento de uma chave, partindo de um criptograma gerado no encapsulamento e de uma chave privada."
   ]
  },
  {
   "cell_type": "markdown",
   "metadata": {},
   "source": [
    "## Class NTRU"
   ]
  },
  {
   "cell_type": "code",
   "execution_count": 7,
   "metadata": {},
   "outputs": [],
   "source": [
    "class NTRU:   \n",
    "    \n",
    "    def __init__(self, n, d, q):\n",
    "        self.n = n\n",
    "        self.d = d\n",
    "        self.q = q\n",
    "        self.Zx = PolynomialRing(ZZ,'x')\n",
    "        self.x = self.Zx.gen()\n",
    "        \n",
    "        \n",
    "        \n",
    "        \n",
    "        \n",
    "    def conv(self, f, g):\n",
    "        res = (f * g) % (self.x^self.n-1)\n",
    "        return res\n",
    "    \n",
    "    \n",
    "    def balancedmod(self, poly, q):\n",
    "        g = list(((poly[i] + q//2) % q) - q//2 for i in range(self.n))\n",
    "        return self.Zx(g)\n",
    "    \n",
    "    \n",
    "    def randompoly(self):\n",
    "        assert self.d <= self.n\n",
    "        result = self.n*[0]\n",
    "        for j in range(self.d):\n",
    "            while True:\n",
    "                r = randrange(self.n)\n",
    "                if not result[r]: break\n",
    "            result[r] = 1-2*randrange(2)\n",
    "        return self.Zx(result)\n",
    "    \n",
    "    \n",
    "    def invertmodprime(self, f,p):\n",
    "        T = self.Zx.change_ring(Integers(p)).quotient(self.x^self.n-1)\n",
    "        return self.Zx(lift(1 / T(f)))\n",
    "    \n",
    "    \n",
    "    def invertmodpowerof2(self, f):\n",
    "        assert self.q.is_power_of(2)\n",
    "        g = self.invertmodprime(f,2)\n",
    "        while True:\n",
    "            r = self.balancedmod(self.conv(g,f), self.q)\n",
    "            if r == 1: \n",
    "                return g\n",
    "            g = self.balancedmod(self.conv(g,2 - r), self.q)\n",
    "            \n",
    "    \n",
    "    def keypair(self):\n",
    "        while True:\n",
    "            try:\n",
    "                f = self.randompoly()\n",
    "                f3 = self.invertmodprime(f,3)\n",
    "                fq = self.invertmodpowerof2(f)\n",
    "                break\n",
    "            except:\n",
    "                pass\n",
    "        g = self.randompoly()\n",
    "        publickey = self.balancedmod(3 * self.conv(fq,g), self.q)\n",
    "        secretkey = (f,f3)\n",
    "        return (publickey,secretkey)\n",
    "    \n",
    "    \n",
    "    def poly_to_string(self, poly):\n",
    "        res = \"\"    \n",
    "        for el in poly:\n",
    "            res = str(el) + res\n",
    "        return res\n",
    "    \n",
    "    \n",
    "    def messagepoly(self):\n",
    "        result = list(randrange(3) - 1 for j in range(self.n))\n",
    "        return self.Zx(result)\n",
    "    \n",
    "    \n",
    "    def encrypt(self, message, publickey):\n",
    "        r = self.randompoly()\n",
    "        return self.balancedmod(self.conv(publickey,r) + message, self.q)\n",
    "    \n",
    "    \n",
    "    def decrypt(self, ciphertext, secretkey):\n",
    "        f, f3 = secretkey\n",
    "        a = self.balancedmod(self.conv(ciphertext,f),self.q)\n",
    "        return self.balancedmod(self.conv(a,f3),3)\n",
    "    \n",
    "    \n",
    "    def wrap(self, publickey):\n",
    "        r = self.randompoly()\n",
    "        c = self.encrypt(r,publickey)\n",
    "        k = sha256(self.poly_to_string(r).encode('utf-8')).hexdigest()\n",
    "        return(c,k)\n",
    "    \n",
    "    \n",
    "    def unwrap(self, secretkey, c):\n",
    "        r = self.decrypt(c, secretkey)\n",
    "        k1 = sha256(self.poly_to_string(r).encode('utf-8')).hexdigest()\n",
    "        return k1\n",
    "    \n",
    "    "
   ]
  },
  {
   "cell_type": "markdown",
   "metadata": {},
   "source": [
    "## Testing PKE"
   ]
  },
  {
   "cell_type": "code",
   "execution_count": 10,
   "metadata": {},
   "outputs": [
    {
     "name": "stdout",
     "output_type": "stream",
     "text": [
      "True\n"
     ]
    }
   ],
   "source": [
    "N = NTRU(7, 5, 256)\n",
    "(p,s) = N.keypair()\n",
    "mess = N.messagepoly()\n",
    "e = N.encrypt(mess, p)\n",
    "l = N.decrypt(e, s)\n",
    "print(mess == l)"
   ]
  },
  {
   "cell_type": "markdown",
   "metadata": {},
   "source": [
    "## Testing KEM"
   ]
  },
  {
   "cell_type": "code",
   "execution_count": 11,
   "metadata": {},
   "outputs": [
    {
     "name": "stdout",
     "output_type": "stream",
     "text": [
      "True\n"
     ]
    }
   ],
   "source": [
    "N = NTRU(7, 5, 256)\n",
    "(p,s) = N.keypair()\n",
    "wr, cc = N.wrap(p)\n",
    "uwr = N.unwrap(s, wr)\n",
    "print(uwr == cc)"
   ]
  },
  {
   "cell_type": "markdown",
   "metadata": {},
   "source": [
    "## Bibliografia:\n",
    "https://ntru.org/"
   ]
  },
  {
   "cell_type": "code",
   "execution_count": null,
   "metadata": {},
   "outputs": [],
   "source": []
  }
 ],
 "metadata": {
  "kernelspec": {
   "display_name": "SageMath 9.2",
   "language": "sage",
   "name": "sagemath"
  },
  "language_info": {
   "codemirror_mode": {
    "name": "ipython",
    "version": 3
   },
   "file_extension": ".py",
   "mimetype": "text/x-python",
   "name": "python",
   "nbconvert_exporter": "python",
   "pygments_lexer": "ipython3",
   "version": "3.7.7"
  }
 },
 "nbformat": 4,
 "nbformat_minor": 4
}
