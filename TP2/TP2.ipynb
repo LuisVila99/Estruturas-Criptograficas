{
 "cells": [
  {
   "cell_type": "markdown",
   "metadata": {},
   "source": [
    "# TP2\n",
    "## NTRU"
   ]
  },
  {
   "cell_type": "markdown",
   "metadata": {},
   "source": [
    "### Imports\n"
   ]
  },
  {
   "cell_type": "code",
   "execution_count": null,
   "metadata": {},
   "outputs": [],
   "source": []
  },
  {
   "cell_type": "markdown",
   "metadata": {},
   "source": [
    "### Definição da classe"
   ]
  },
  {
   "cell_type": "code",
   "execution_count": null,
   "metadata": {},
   "outputs": [],
   "source": [
    "class NTRU:\n",
    "    \n",
    "    N = None\n",
    "    p = None\n",
    "    q = None\n",
    "    \n",
    "    f_poly = None\n",
    "    g_poly = None\n",
    "    h_poly = None\n",
    "    f_p_poly = None\n",
    "    f_q_poly = None\n",
    "    Ring = None\n",
    "    \n",
    "    def __init__(self, N, p, q):\n",
    "        \n",
    "        self.N = N\n",
    "        self.p = p\n",
    "        self.q = q\n",
    "        self.Ring = Poly(x ** N - 1, x).set_domain(ZZ)"
   ]
  }
 ],
 "metadata": {
  "kernelspec": {
   "display_name": "SageMath 9.2",
   "language": "sage",
   "name": "sagemath"
  },
  "language_info": {
   "codemirror_mode": {
    "name": "ipython",
    "version": 3
   },
   "file_extension": ".py",
   "mimetype": "text/x-python",
   "name": "python",
   "nbconvert_exporter": "python",
   "pygments_lexer": "ipython3",
   "version": "3.7.7"
  }
 },
 "nbformat": 4,
 "nbformat_minor": 4
}
