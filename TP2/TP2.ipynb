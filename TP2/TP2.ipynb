{
 "cells": [
  {
   "cell_type": "markdown",
   "metadata": {},
   "source": [
    "# TP2\n",
    "## NTRU"
   ]
  },
  {
   "cell_type": "markdown",
   "metadata": {},
   "source": [
    "### Imports\n"
   ]
  },
  {
   "cell_type": "code",
   "execution_count": null,
   "metadata": {},
   "outputs": [],
   "source": []
  },
  {
   "cell_type": "markdown",
   "metadata": {},
   "source": [
    "### Definição da classe"
   ]
  },
  {
   "cell_type": "code",
   "execution_count": null,
   "metadata": {},
   "outputs": [],
   "source": [
    "class NTRU:\n",
    "    \n",
    "    N = None\n",
    "    p = None\n",
    "    q = None\n",
    "    \n",
    "    f_poly = None\n",
    "    g_poly = None\n",
    "    h_poly = None\n",
    "    f_p_poly = None\n",
    "    f_q_poly = None\n",
    "    Ring = None\n",
    "    \n",
    "    def __init__(self, N, p, q):\n",
    "        \n",
    "        self.N = N\n",
    "        self.p = p\n",
    "        self.q = q\n",
    "        self.Ring = Poly(x ** N - 1, x).set_domain(ZZ)"
   ]
  },
  {
   "cell_type": "code",
   "execution_count": null,
   "metadata": {},
   "outputs": [],
   "source": [
    "Zx.<x> = ZZ[]\n",
    "f = Zx([3,1,4])\n",
    "g = Zx([2,7,1])\n",
    "n = 3\n",
    "print(f)\n",
    "print(g)"
   ]
  },
  {
   "cell_type": "markdown",
   "metadata": {},
   "source": [
    "Operação de multiplicação utilizada em NTRU. É identica à multiplicação polinomial, porém reduz o output \"modulo x^n-1\", ou seja, x^n é substituído por 1, x^(n+1) por x, x^(n+2) por x^2, etc.\n",
    "\n",
    "Os inputs são dois polinomios de n coeficientes, ou seja, com membros de 1 até x^(n-1). O output também é um polinomial com n coeficientes, pois os elementos x^n, x^(n+1), x^(n+2), etc. foram eliminados."
   ]
  },
  {
   "cell_type": "code",
   "execution_count": null,
   "metadata": {},
   "outputs": [],
   "source": [
    "def conv(f,g):\n",
    "    return (f * g) % (x^n-1)"
   ]
  },
  {
   "cell_type": "markdown",
   "metadata": {},
   "source": [
    "Esta função recebe como inputs um polinomial com n coeficientes e um integer positivo. O output é o mesmo polinomial, exceto\n",
    "que cada coeficiente é reduzido com módulo q."
   ]
  },
  {
   "cell_type": "code",
   "execution_count": null,
   "metadata": {},
   "outputs": [],
   "source": [
    "def balancedmod(poly,q):\n",
    "      g = list(((poly[i] + q//2) % q) - q//2 for i in range(n))\n",
    "      return Zx(g)"
   ]
  },
  {
   "cell_type": "code",
   "execution_count": null,
   "metadata": {},
   "outputs": [],
   "source": [
    "u = Zx([3,1,4,1,5,9])\n",
    "n = 7\n",
    "print(u)\n",
    "balancedmod(u,9)"
   ]
  },
  {
   "cell_type": "markdown",
   "metadata": {},
   "source": [
    "A função randompoly() retorna um polinomial, onde exatamente d coeficientes são diferentes de 0 (d não são 0, e n - d são 0). \n",
    "É de ter em conta que todos os coeficientes do polinomio estão limitados a 1 e -1."
   ]
  },
  {
   "cell_type": "code",
   "execution_count": null,
   "metadata": {},
   "outputs": [],
   "source": [
    "def randomdpoly():\n",
    "      assert d <= n\n",
    "      result = n*[0]\n",
    "      for j in range(d):\n",
    "        while True:\n",
    "          r = randrange(n)\n",
    "          if not result[r]: break\n",
    "        result[r] = 1-2*randrange(2)\n",
    "      return Zx"
   ]
  }
 ],
 "metadata": {
  "kernelspec": {
   "display_name": "SageMath 9.2",
   "language": "sage",
   "name": "sagemath"
  },
  "language_info": {
   "codemirror_mode": {
    "name": "ipython",
    "version": 3
   },
   "file_extension": ".py",
   "mimetype": "text/x-python",
   "name": "python",
   "nbconvert_exporter": "python",
   "pygments_lexer": "ipython3",
   "version": "3.7.7"
  }
 },
 "nbformat": 4,
 "nbformat_minor": 4
}
