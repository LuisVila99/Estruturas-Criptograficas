{
 "cells": [
  {
   "cell_type": "markdown",
   "metadata": {},
   "source": [
    "# BIKE"
   ]
  },
  {
   "cell_type": "markdown",
   "metadata": {},
   "source": [
    "## Imports\n"
   ]
  },
  {
   "cell_type": "code",
   "execution_count": 36,
   "metadata": {},
   "outputs": [],
   "source": [
    "import random as rn\n",
    "import numpy as np"
   ]
  },
  {
   "cell_type": "markdown",
   "metadata": {},
   "source": [
    "## Class BIKE"
   ]
  },
  {
   "cell_type": "code",
   "execution_count": 65,
   "metadata": {},
   "outputs": [],
   "source": [
    "class BIKE:\n",
    "    def __init__(self, r, t):\n",
    "        self.K = GF(2)\n",
    "        self.um = self.K(1)\n",
    "        self.zero = self.K(0)\n",
    "        \n",
    "        self.r = r\n",
    "        self.n = 2*r\n",
    "        self.t = t\n",
    "        \n",
    "        self.Vn  = VectorSpace(self.K,self.n)\n",
    "        self.Vr  = VectorSpace(self.K,self.r)\n",
    "        self.Vq  = VectorSpace(QQ,self.r)\n",
    "        \n",
    "        self.Mr  = MatrixSpace(self.K,self.n,self.r)\n",
    "        \n",
    "        self.R = PolynomialRing(self.K,name='w')\n",
    "        self.w = self.R.gen()\n",
    "        self.Rr = QuotientRing(self.R,self.R.ideal(self.w^self.r+1))\n",
    "        \n",
    "    \n",
    "    # mask ???\n",
    "    \n",
    "    # hamm ???\n",
    "    \n",
    "    \n",
    "    def key_gen(self):\n",
    "        h0 = self.sparse_pol()\n",
    "        h1 = self.sparse_pol()\n",
    "        while(not (h0 != h1 and h0.is_unit() and h1.is_unit())):\n",
    "            h0 = self.sparse_pol()\n",
    "            h1 = self.sparse_pol()\n",
    "        private = (h0, h1)\n",
    "        public = (1, h0/h1)\n",
    "        return(public, private)    \n",
    "    \n",
    "    def enc(self, private, mess):\n",
    "        (g0, g1) = private\n",
    "        (e0, e1) = self.noise(self.t)        \n",
    "        return (mess * g0 + e0, mess * g1 + e1)\n",
    "    \n",
    "    def dec(self, public, cripto):\n",
    "        vec = self.expand2(cripto)\n",
    "    \n",
    "        (h0, h1) = public\n",
    "        H = block_matrix(2,1,[self.Rot(h0),self.Rot(h1)])\n",
    "        synd = vec * H \n",
    "    \n",
    "        cw = self.BF(H,vec,synd) \n",
    "    \n",
    "        (cw0,cw1) = self.unexpand2(cw)  \n",
    "    \n",
    "        return cw0\n",
    "\n",
    "    \n",
    "    def rot(self, h):\n",
    "        v = self.Vr() ; v[0] = h[-1]\n",
    "        for i in range(self.r-1):\n",
    "            v[i+1] = h[i]\n",
    "        return v\n",
    "\n",
    "    def Rot(self, h):\n",
    "        M = Matrix(self.K,self.r,self.r) ; M[0] = self.expand(h)\n",
    "        for i in range(1,self.r):\n",
    "            M[i] = self.rot(M[i-1])\n",
    "        return M\n",
    "    \n",
    "    def expand(self, f):\n",
    "        fl = f.list(); ex = self.r - len(fl)\n",
    "        return self.Vr(fl + [self.zero]*ex)\n",
    "\n",
    "    def expand2(self, code):\n",
    "        (f0,f1) = code\n",
    "        f = self.expand(f0).list() + self.expand(f1).list()\n",
    "        return self.Vn(f)\n",
    "\n",
    "    def unexpand2(self, vec):\n",
    "        u = vec.list()\n",
    "        return (self.Rr(u[:self.r]),self.Rr(u[self.r:]))\n",
    "    \n",
    "    \n",
    "    def BF(self, H,code,synd, errs=0):\n",
    "        cnt_iter=self.r\n",
    "        mycode = code\n",
    "        mysynd = synd\n",
    "    \n",
    "        while cnt_iter > 0 and self.hamm(mysynd) > errs:\n",
    "            cnt_iter   = cnt_iter - 1\n",
    "            unsats     = [self.hamm(self.mask(mysynd,H[i])) for i in range(self.n)]\n",
    "            max_unsats = max(unsats)\n",
    "        \n",
    "            for i in range(self.n):\n",
    "                if unsats[i] == max_unsats:\n",
    "                    mycode[i]  += self.um               \n",
    "                    mysynd     += H[i]\n",
    "\n",
    "        if cnt_iter == 0:\n",
    "            raise ValueError(\"BF: limite de iterações ultrapassado\")\n",
    "    \n",
    "        return mycode   \n",
    "\n",
    "    \n",
    "    def sparse_pol(self, sparse=3):\n",
    "        coeffs = [1]*sparse + [0]*(self.r-2-sparse)\n",
    "        rn.shuffle(coeffs)\n",
    "        return self.Rr([1]+coeffs+[1])\n",
    "\n",
    "\n",
    "    def noise(self, t):\n",
    "        el = [self.um]*t + [self.zero]*(self.n-self.t)\n",
    "        rn.shuffle(el)  \n",
    "        return (self.Rr(el[:self.r]),self.Rr(el[self.r:]))\n",
    "        \n",
    "        \n",
    "    def mask(self, u,v):                                    \n",
    "        return u.pairwise_product(v)\n",
    "\n",
    "    def hamm(self, u):                                     \n",
    "        return sum([1 if a == self.um else 0 for a in u])\n",
    "    "
   ]
  },
  {
   "cell_type": "markdown",
   "metadata": {},
   "source": [
    "## Testing"
   ]
  },
  {
   "cell_type": "code",
   "execution_count": 67,
   "metadata": {},
   "outputs": [
    {
     "name": "stdout",
     "output_type": "stream",
     "text": [
      "False\n",
      "True\n"
     ]
    }
   ],
   "source": [
    "b = BIKE(257, 16)\n",
    "\n",
    "(g, h) = b.key_gen()\n",
    "m = b.Rr.random_element()\n",
    "cr = b.enc(g, m)\n",
    "d = b.dec(h, cr)\n",
    "print(cr == m)\n",
    "print(d == m)"
   ]
  },
  {
   "cell_type": "code",
   "execution_count": null,
   "metadata": {},
   "outputs": [],
   "source": []
  }
 ],
 "metadata": {
  "kernelspec": {
   "display_name": "SageMath 9.2",
   "language": "sage",
   "name": "sagemath"
  },
  "language_info": {
   "codemirror_mode": {
    "name": "ipython",
    "version": 3
   },
   "file_extension": ".py",
   "mimetype": "text/x-python",
   "name": "python",
   "nbconvert_exporter": "python",
   "pygments_lexer": "ipython3",
   "version": "3.7.7"
  }
 },
 "nbformat": 4,
 "nbformat_minor": 4
}
