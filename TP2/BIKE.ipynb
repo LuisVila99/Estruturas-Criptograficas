{
 "cells": [
  {
   "cell_type": "markdown",
   "metadata": {},
   "source": [
    "# BIKE"
   ]
  },
  {
   "cell_type": "markdown",
   "metadata": {},
   "source": [
    "## Imports\n"
   ]
  },
  {
   "cell_type": "code",
   "execution_count": 42,
   "metadata": {},
   "outputs": [],
   "source": [
    "import random as rn\n",
    "import numpy as np\n",
    "from hashlib import sha256"
   ]
  },
  {
   "cell_type": "markdown",
   "metadata": {},
   "source": [
    "## BIKE\n",
    "Definição de uma classe que implemente encapsulamento de chaves e cifragem/decifragem de mensagens, com recurso à operação de *bit flip*.\n",
    "\n",
    "### key_gen\n",
    "Método que gera as chaves públicas e privadas, a partir de parâmetros de segurança previamente estabelecidos na própria classe BIKE. Recorrendo ao método *sparse_cols*, geram-se polinómios que serão posteriormente utilizados na geração das chaves públicas e privadas, como definido na documentação do BIKE. Assim, a chave privada deve ser (h0, h1) e a pública (gh1, gh0).\n",
    "\n",
    "### enc\n",
    "Este será o método de cifragem, que se servirá da chave pública para computar um criptograma, a partir da cifragem de uma mensagem recebida como argumento. Utilizará também na cifragem polinómios gerados pelo método *noise*. Assim, o criptograma resultante será dado por  (m*f0 + e0, m*f1 + e1).\n",
    "\n",
    "### dec\n",
    "É o método de decifragem, que decifrará um criptograma através do algoritmo de *bit flip*, com recurso à chave privada anteriormente gerada. Utiliza-se a chave privada para computar um síndroma, que será posteriormente decifrado no método de *bit flip*, resultando na mensagem original"
   ]
  },
  {
   "cell_type": "markdown",
   "metadata": {},
   "source": [
    "## Class BIKE"
   ]
  },
  {
   "cell_type": "code",
   "execution_count": 43,
   "metadata": {},
   "outputs": [],
   "source": [
    "class BIKE:\n",
    "    def __init__(self, r, t):\n",
    "        self.K = GF(2)\n",
    "        self.um = self.K(1)\n",
    "        self.zero = self.K(0)\n",
    "        \n",
    "        self.r = r\n",
    "        self.n = 2*r\n",
    "        self.t = t\n",
    "        \n",
    "        self.Vn  = VectorSpace(self.K,self.n)\n",
    "        self.Vr  = VectorSpace(self.K,self.r)\n",
    "        self.Vq  = VectorSpace(QQ,self.r)\n",
    "        \n",
    "        self.Mr  = MatrixSpace(self.K,self.n,self.r)\n",
    "        \n",
    "        self.R = PolynomialRing(self.K,name='w')\n",
    "        self.w = self.R.gen()\n",
    "        self.Rr = QuotientRing(self.R,self.R.ideal(self.w^self.r+1))\n",
    "        \n",
    "   \n",
    "    \n",
    "    def key_gen(self):\n",
    "        h0 = self.sparse_pol()\n",
    "        h1 = self.sparse_pol()\n",
    "        while(not (h0 != h1 and h0.is_unit() and h1.is_unit())):\n",
    "            h0 = self.sparse_pol()\n",
    "            h1 = self.sparse_pol()\n",
    "        \n",
    "        g = self.sparse_pol()\n",
    "        while(not g.is_unit() and h0 != g and h1 != g):\n",
    "            g = self.sparse_pol()\n",
    "            \n",
    "        private = (h0, h1)\n",
    "        #public = (g*h1, g*h0)\n",
    "        public = (1, h0/h1)\n",
    "        \n",
    "        return(private, public)   \n",
    "    \n",
    "    \n",
    "    def enc(self, public, m):\n",
    "        (f0, f1) = public\n",
    "        (e, e0, e1) = self.noise(self.t)        \n",
    "        return (m * f0 + e0, m * f1 + e1)\n",
    "        #return (e + e1*f0, e0 + e1*f1)\n",
    "        \n",
    "    \n",
    "    def dec(self, private, cripto):\n",
    "        vec = self.expand2(cripto)\n",
    "        (c0, c1) = cripto\n",
    "        (h0, h1) = private\n",
    "        H = block_matrix(2,1,[self.Rot(h0),self.Rot(h1)])\n",
    "        #aux = block_matrix(2,1,[self.Rot(1),self.Rot(h0)])\n",
    "        synd = vec * H \n",
    "        #synd = vec * aux \n",
    "    \n",
    "        cw = self.BF(H,vec,synd,0) \n",
    "    \n",
    "        (cw0,cw1) = self.unexpand2(cw)  \n",
    "    \n",
    "        return cw0\n",
    "    \n",
    "    \n",
    "    def encapsulate(self, public):\n",
    "        (e,e0,e1) = self.noise(self.t)\n",
    "        (f0, f1) = public \n",
    "        ms = self.Rr.random_element()\n",
    "        \n",
    "        uu  = np.packbits(list(map(lift,self.expand2((e0,e1)))))\n",
    "        m = sha256()\n",
    "        m.update(uu)\n",
    "        key = m.digest()\n",
    "        \n",
    "        return (key, (ms*f0 + e0, ms*f1 + e1))\n",
    "    \n",
    "    def decapsulate(self, private, cripto):\n",
    "        vec = self.expand2(cripto)\n",
    "        (c0, c1) = cripto\n",
    "        (h0, h1) = private\n",
    "        H = block_matrix(2,1,[self.Rot(h0),self.Rot(h1)])\n",
    "        #aux = block_matrix(2,1,[self.Rot(1),self.Rot(h0)])\n",
    "        synd = vec * H \n",
    "        #synd = vec * aux \n",
    "    \n",
    "        cw = self.BF(H,vec,synd,0) \n",
    "    \n",
    "        (cw0,cw1) = self.unexpand2(cw)  \n",
    "        \n",
    "        \n",
    "        uu  = np.packbits(list(map(lift,self.expand2((cw0+c0,cw1+c1)))))\n",
    "        m = sha256()\n",
    "        m.update(uu)\n",
    "        key = m.digest()\n",
    "        \n",
    "        return key\n",
    "\n",
    "    \n",
    "    \n",
    "    \n",
    "    \n",
    "    def BF(self, H,code,synd, errs=0):\n",
    "        cnt_iter=self.r\n",
    "        mycode = code\n",
    "        mysynd = synd\n",
    "    \n",
    "        while cnt_iter > 0 and self.hamm(mysynd) > errs:\n",
    "            cnt_iter   = cnt_iter - 1\n",
    "            unsats     = [self.hamm(self.mask(mysynd,H[i])) for i in range(self.n)]\n",
    "            max_unsats = max(unsats)\n",
    "        \n",
    "            for i in range(self.n):\n",
    "                if unsats[i] == max_unsats:\n",
    "                    mycode[i]  += self.um               \n",
    "                    mysynd     += H[i]\n",
    "\n",
    "        if cnt_iter == 0:\n",
    "            raise ValueError(\"BF: limite de iterações ultrapassado\")\n",
    "    \n",
    "        return mycode   \n",
    "    \n",
    "    \n",
    "\n",
    "##################################################### AUXILIARES ##############################################################\n",
    "    \n",
    "    def sparse_pol(self, sparse=3):\n",
    "        coeffs = [1]*sparse + [0]*(self.r-2-sparse)\n",
    "        rn.shuffle(coeffs)\n",
    "        return self.Rr([1]+coeffs+[1])\n",
    "\n",
    "\n",
    "    def noise(self, t):\n",
    "        el = [self.um]*t + [self.zero]*(self.n-self.t)\n",
    "        rn.shuffle(el)  \n",
    "        return (self.Rr(el), self.Rr(el[:self.r]), self.Rr(el[self.r:]))\n",
    "           \n",
    "        \n",
    "    def mask(self, u,v):                                    \n",
    "        return u.pairwise_product(v)\n",
    "    \n",
    "\n",
    "    def hamm(self, u):                                     \n",
    "        return sum([1 if a == self.um else 0 for a in u])\n",
    "    \n",
    "    \n",
    "    def rot(self, h):\n",
    "        v = self.Vr() ; v[0] = h[-1]\n",
    "        for i in range(self.r-1):\n",
    "            v[i+1] = h[i]\n",
    "        return v\n",
    "    \n",
    "\n",
    "    def Rot(self, h):\n",
    "        M = Matrix(self.K,self.r,self.r) ; M[0] = self.expand(h)\n",
    "        for i in range(1,self.r):\n",
    "            M[i] = self.rot(M[i-1])\n",
    "        return M\n",
    "    \n",
    "    \n",
    "    def expand(self, f):\n",
    "        fl = f.list(); ex = self.r - len(fl)\n",
    "        return self.Vr(fl + [self.zero]*ex)\n",
    "    \n",
    "\n",
    "    def expand2(self, code):\n",
    "        (f0,f1) = code\n",
    "        f = self.expand(f0).list() + self.expand(f1).list()\n",
    "        return self.Vn(f)\n",
    "    \n",
    "\n",
    "    def unexpand2(self, vec):\n",
    "        u = vec.list()\n",
    "        return (self.Rr(u[:self.r]),self.Rr(u[self.r:]))    "
   ]
  },
  {
   "cell_type": "markdown",
   "metadata": {},
   "source": [
    "## Testing PKE"
   ]
  },
  {
   "cell_type": "code",
   "execution_count": 44,
   "metadata": {},
   "outputs": [
    {
     "name": "stdout",
     "output_type": "stream",
     "text": [
      "False\n",
      "True\n"
     ]
    }
   ],
   "source": [
    "b = BIKE(257, 16)\n",
    "\n",
    "(private, public) = b.key_gen()\n",
    "m = b.Rr.random_element()\n",
    "cr = b.enc(public, m)\n",
    "d = b.dec(private, cr)\n",
    "print(cr == m)\n",
    "print(d == m)"
   ]
  },
  {
   "cell_type": "markdown",
   "metadata": {},
   "source": [
    "## Testing KEM"
   ]
  },
  {
   "cell_type": "code",
   "execution_count": 45,
   "metadata": {},
   "outputs": [
    {
     "ename": "TypeError",
     "evalue": "unsupported operand parent(s) for *: '<class '_hashlib.HASH'>' and 'Integer Ring'",
     "output_type": "error",
     "traceback": [
      "\u001b[0;31m---------------------------------------------------------------------------\u001b[0m",
      "\u001b[0;31mTypeError\u001b[0m                                 Traceback (most recent call last)",
      "\u001b[0;32m<ipython-input-45-770aa2aaa0e4>\u001b[0m in \u001b[0;36m<module>\u001b[0;34m\u001b[0m\n\u001b[1;32m      2\u001b[0m \u001b[0;34m\u001b[0m\u001b[0m\n\u001b[1;32m      3\u001b[0m \u001b[0;34m(\u001b[0m\u001b[0mprivate\u001b[0m\u001b[0;34m,\u001b[0m \u001b[0mpublic\u001b[0m\u001b[0;34m)\u001b[0m \u001b[0;34m=\u001b[0m \u001b[0mb\u001b[0m\u001b[0;34m.\u001b[0m\u001b[0mkey_gen\u001b[0m\u001b[0;34m(\u001b[0m\u001b[0;34m)\u001b[0m\u001b[0;34m\u001b[0m\u001b[0;34m\u001b[0m\u001b[0m\n\u001b[0;32m----> 4\u001b[0;31m \u001b[0mk1\u001b[0m\u001b[0;34m,\u001b[0m \u001b[0mc\u001b[0m \u001b[0;34m=\u001b[0m \u001b[0mb\u001b[0m\u001b[0;34m.\u001b[0m\u001b[0mencapsulate\u001b[0m\u001b[0;34m(\u001b[0m\u001b[0mpublic\u001b[0m\u001b[0;34m)\u001b[0m\u001b[0;34m\u001b[0m\u001b[0;34m\u001b[0m\u001b[0m\n\u001b[0m\u001b[1;32m      5\u001b[0m \u001b[0mk2\u001b[0m \u001b[0;34m=\u001b[0m \u001b[0mb\u001b[0m\u001b[0;34m.\u001b[0m\u001b[0mdecapsulate\u001b[0m\u001b[0;34m(\u001b[0m\u001b[0mprivate\u001b[0m\u001b[0;34m,\u001b[0m \u001b[0mc\u001b[0m\u001b[0;34m)\u001b[0m\u001b[0;34m\u001b[0m\u001b[0;34m\u001b[0m\u001b[0m\n\u001b[1;32m      6\u001b[0m \u001b[0mprint\u001b[0m\u001b[0;34m(\u001b[0m\u001b[0mk1\u001b[0m \u001b[0;34m==\u001b[0m \u001b[0mk2\u001b[0m\u001b[0;34m)\u001b[0m\u001b[0;34m\u001b[0m\u001b[0;34m\u001b[0m\u001b[0m\n",
      "\u001b[0;32m<ipython-input-43-23ddd44f15a8>\u001b[0m in \u001b[0;36mencapsulate\u001b[0;34m(self, public)\u001b[0m\n\u001b[1;32m     72\u001b[0m         \u001b[0mkey\u001b[0m \u001b[0;34m=\u001b[0m \u001b[0mm\u001b[0m\u001b[0;34m.\u001b[0m\u001b[0mdigest\u001b[0m\u001b[0;34m(\u001b[0m\u001b[0;34m)\u001b[0m\u001b[0;34m\u001b[0m\u001b[0;34m\u001b[0m\u001b[0m\n\u001b[1;32m     73\u001b[0m \u001b[0;34m\u001b[0m\u001b[0m\n\u001b[0;32m---> 74\u001b[0;31m         \u001b[0;32mreturn\u001b[0m \u001b[0;34m(\u001b[0m\u001b[0mkey\u001b[0m\u001b[0;34m,\u001b[0m \u001b[0;34m(\u001b[0m\u001b[0mm\u001b[0m\u001b[0;34m*\u001b[0m\u001b[0mf0\u001b[0m \u001b[0;34m+\u001b[0m \u001b[0me0\u001b[0m\u001b[0;34m,\u001b[0m \u001b[0mm\u001b[0m\u001b[0;34m*\u001b[0m\u001b[0mf1\u001b[0m \u001b[0;34m+\u001b[0m \u001b[0me1\u001b[0m\u001b[0;34m)\u001b[0m\u001b[0;34m)\u001b[0m\u001b[0;34m\u001b[0m\u001b[0;34m\u001b[0m\u001b[0m\n\u001b[0m\u001b[1;32m     75\u001b[0m \u001b[0;34m\u001b[0m\u001b[0m\n\u001b[1;32m     76\u001b[0m     \u001b[0;32mdef\u001b[0m \u001b[0mdecapsulate\u001b[0m\u001b[0;34m(\u001b[0m\u001b[0mself\u001b[0m\u001b[0;34m,\u001b[0m \u001b[0mprivate\u001b[0m\u001b[0;34m,\u001b[0m \u001b[0mcripto\u001b[0m\u001b[0;34m)\u001b[0m\u001b[0;34m:\u001b[0m\u001b[0;34m\u001b[0m\u001b[0;34m\u001b[0m\u001b[0m\n",
      "\u001b[0;32m/opt/sagemath-9.2/local/lib/python3.7/site-packages/sage/rings/integer.pyx\u001b[0m in \u001b[0;36msage.rings.integer.Integer.__mul__ (build/cythonized/sage/rings/integer.c:14017)\u001b[0;34m()\u001b[0m\n\u001b[1;32m   1980\u001b[0m             \u001b[0;32mreturn\u001b[0m \u001b[0my\u001b[0m\u001b[0;34m\u001b[0m\u001b[0;34m\u001b[0m\u001b[0m\n\u001b[1;32m   1981\u001b[0m \u001b[0;34m\u001b[0m\u001b[0m\n\u001b[0;32m-> 1982\u001b[0;31m         \u001b[0;32mreturn\u001b[0m \u001b[0mcoercion_model\u001b[0m\u001b[0;34m.\u001b[0m\u001b[0mbin_op\u001b[0m\u001b[0;34m(\u001b[0m\u001b[0mleft\u001b[0m\u001b[0;34m,\u001b[0m \u001b[0mright\u001b[0m\u001b[0;34m,\u001b[0m \u001b[0moperator\u001b[0m\u001b[0;34m.\u001b[0m\u001b[0mmul\u001b[0m\u001b[0;34m)\u001b[0m\u001b[0;34m\u001b[0m\u001b[0;34m\u001b[0m\u001b[0m\n\u001b[0m\u001b[1;32m   1983\u001b[0m \u001b[0;34m\u001b[0m\u001b[0m\n\u001b[1;32m   1984\u001b[0m     \u001b[0mcpdef\u001b[0m \u001b[0m_mul_\u001b[0m\u001b[0;34m(\u001b[0m\u001b[0mself\u001b[0m\u001b[0;34m,\u001b[0m \u001b[0mright\u001b[0m\u001b[0;34m)\u001b[0m\u001b[0;34m:\u001b[0m\u001b[0;34m\u001b[0m\u001b[0;34m\u001b[0m\u001b[0m\n",
      "\u001b[0;32m/opt/sagemath-9.2/local/lib/python3.7/site-packages/sage/structure/coerce.pyx\u001b[0m in \u001b[0;36msage.structure.coerce.CoercionModel.bin_op (build/cythonized/sage/structure/coerce.c:11304)\u001b[0;34m()\u001b[0m\n\u001b[1;32m   1246\u001b[0m         \u001b[0;31m# We should really include the underlying error.\u001b[0m\u001b[0;34m\u001b[0m\u001b[0;34m\u001b[0m\u001b[0;34m\u001b[0m\u001b[0m\n\u001b[1;32m   1247\u001b[0m         \u001b[0;31m# This causes so much headache.\u001b[0m\u001b[0;34m\u001b[0m\u001b[0;34m\u001b[0m\u001b[0;34m\u001b[0m\u001b[0m\n\u001b[0;32m-> 1248\u001b[0;31m         \u001b[0;32mraise\u001b[0m \u001b[0mbin_op_exception\u001b[0m\u001b[0;34m(\u001b[0m\u001b[0mop\u001b[0m\u001b[0;34m,\u001b[0m \u001b[0mx\u001b[0m\u001b[0;34m,\u001b[0m \u001b[0my\u001b[0m\u001b[0;34m)\u001b[0m\u001b[0;34m\u001b[0m\u001b[0;34m\u001b[0m\u001b[0m\n\u001b[0m\u001b[1;32m   1249\u001b[0m \u001b[0;34m\u001b[0m\u001b[0m\n\u001b[1;32m   1250\u001b[0m     \u001b[0mcpdef\u001b[0m \u001b[0mcanonical_coercion\u001b[0m\u001b[0;34m(\u001b[0m\u001b[0mself\u001b[0m\u001b[0;34m,\u001b[0m \u001b[0mx\u001b[0m\u001b[0;34m,\u001b[0m \u001b[0my\u001b[0m\u001b[0;34m)\u001b[0m\u001b[0;34m:\u001b[0m\u001b[0;34m\u001b[0m\u001b[0;34m\u001b[0m\u001b[0m\n",
      "\u001b[0;31mTypeError\u001b[0m: unsupported operand parent(s) for *: '<class '_hashlib.HASH'>' and 'Integer Ring'"
     ]
    }
   ],
   "source": [
    "b = BIKE(257, 16)\n",
    "\n",
    "(private, public) = b.key_gen()\n",
    "k1, c = b.encapsulate(public)\n",
    "k2 = b.decapsulate(private, c)\n",
    "print(k1 == k2)"
   ]
  },
  {
   "cell_type": "code",
   "execution_count": null,
   "metadata": {},
   "outputs": [],
   "source": []
  }
 ],
 "metadata": {
  "kernelspec": {
   "display_name": "SageMath 9.2",
   "language": "sage",
   "name": "sagemath"
  },
  "language_info": {
   "codemirror_mode": {
    "name": "ipython",
    "version": 3
   },
   "file_extension": ".py",
   "mimetype": "text/x-python",
   "name": "python",
   "nbconvert_exporter": "python",
   "pygments_lexer": "ipython3",
   "version": "3.7.7"
  }
 },
 "nbformat": 4,
 "nbformat_minor": 4
}
