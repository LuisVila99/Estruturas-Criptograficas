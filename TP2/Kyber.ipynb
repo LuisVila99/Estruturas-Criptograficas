{
 "cells": [
  {
   "cell_type": "markdown",
   "metadata": {},
   "source": [
    "# PKE Kyber"
   ]
  },
  {
   "cell_type": "markdown",
   "metadata": {},
   "source": [
    "#### keypair"
   ]
  },
  {
   "cell_type": "markdown",
   "metadata": {},
   "source": [
    "Função que gera as chaves pública e privada usadas na cifragem e decifragem"
   ]
  },
  {
   "cell_type": "markdown",
   "metadata": {},
   "source": [
    "#### dec"
   ]
  },
  {
   "cell_type": "markdown",
   "metadata": {},
   "source": [
    "Função de decifragem que recebe a chave privada e um criptograma e retorna a mensagem original."
   ]
  },
  {
   "cell_type": "markdown",
   "metadata": {},
   "source": [
    "#### enc"
   ]
  },
  {
   "cell_type": "markdown",
   "metadata": {},
   "source": [
    "Função de cifragem que recebe a chave pública e uma mensagem e retorna o criptograma resultante."
   ]
  },
  {
   "cell_type": "markdown",
   "metadata": {},
   "source": [
    "#### CBD"
   ]
  },
  {
   "cell_type": "markdown",
   "metadata": {},
   "source": [
    "Função que recebe uma bytestream e um inteiro e retorna um polinómio em Rq."
   ]
  },
  {
   "cell_type": "markdown",
   "metadata": {},
   "source": [
    "#### Parse"
   ]
  },
  {
   "cell_type": "markdown",
   "metadata": {},
   "source": [
    "Função que recebe uma bytestream e retorna um polinómio em Rq."
   ]
  },
  {
   "cell_type": "markdown",
   "metadata": {},
   "source": [
    "#### BytesToBits"
   ]
  },
  {
   "cell_type": "markdown",
   "metadata": {},
   "source": [
    "Função que transforma um bytearray em bitarray."
   ]
  },
  {
   "cell_type": "markdown",
   "metadata": {},
   "source": [
    "#### compress"
   ]
  },
  {
   "cell_type": "markdown",
   "metadata": {},
   "source": [
    "Recebe um elemento x ∈ Z e retorna um inteiro em {0, . . . , 2^d − 1} com d < log2(q)."
   ]
  },
  {
   "cell_type": "markdown",
   "metadata": {},
   "source": [
    "#### decompress"
   ]
  },
  {
   "cell_type": "markdown",
   "metadata": {},
   "source": [
    "Recebe um elemento {0, . . . , 2^d − 1} com d < log2(q) e retorna um inteiro em x ∈ Z."
   ]
  },
  {
   "cell_type": "markdown",
   "metadata": {},
   "source": [
    "#### rounding"
   ]
  },
  {
   "cell_type": "markdown",
   "metadata": {},
   "source": [
    "Função que arredonda x com x ∈ Q, para o inteiro mais próximo (rounded up)."
   ]
  },
  {
   "cell_type": "markdown",
   "metadata": {},
   "source": [
    "#### Reverse"
   ]
  },
  {
   "cell_type": "markdown",
   "metadata": {},
   "source": [
    "Inverte uma lista."
   ]
  },
  {
   "cell_type": "code",
   "execution_count": 300,
   "metadata": {},
   "outputs": [],
   "source": [
    "import math\n",
    "import os\n",
    "from hashlib import sha3_512\n",
    "from hashlib import shake_128\n",
    "from hashlib import shake_256\n",
    "\n",
    "\n",
    "class Kyber:\n",
    "    \n",
    "\n",
    "    def __init__(self):\n",
    "\n",
    "        self.q = 3329\n",
    "        self.n = 256\n",
    "        self.k = 2\n",
    "        self.du = 10\n",
    "        self.dv = 4\n",
    "        self.nbin1 = 3\n",
    "        self.nbin2 = 2\n",
    "        self.R = PolynomialRing(GF(3329),'x')\n",
    "        self.x = self.R.gen()\n",
    "        self.fq = (self.x^self.n + 1)\n",
    "        self.Rq = QuotientRing(self.R,self.fq)\n",
    "    \n",
    "    def rounding(self,rational):\n",
    "         res = math.ceil(rational)\n",
    "         \n",
    "         if(rational < 0):\n",
    "         \n",
    "            res = res * (-1)\n",
    "        \n",
    "         if(res < rational):\n",
    "            return rational\n",
    "     \n",
    "         return res\n",
    "    \n",
    "    def Reverse(self,lst):\n",
    "            \n",
    "            return [ele for ele in reversed(lst)]\n",
    "        \n",
    "        \n",
    "    def compress(self,x,d):\n",
    "        h = list(x)\n",
    "        l = []\n",
    "        for i in h:\n",
    "            \n",
    "            \n",
    "            l.append(self.rounding(((2^d)/self.q) * lift(i)) % 2^d)\n",
    "        return l\n",
    "    \n",
    "    def decompress(self,x,d):\n",
    "            \n",
    "            l = []\n",
    "            for i in x:\n",
    "                l.append(self.rounding(self.q/(2^d)) * i)\n",
    "            return l\n",
    "        \n",
    "            \n",
    "    def BytesToBits(self,bytestream): \n",
    "        \n",
    "        bytes_as_bits = ''.join(format(ord(bytes([byte])), '08b') for byte in bytestream)\n",
    "        \n",
    "        return bytes_as_bits\n",
    "    \n",
    "\n",
    "    def Parse(self,bytestream):\n",
    "        \n",
    "        i = 0\n",
    "        j = 0\n",
    "        a = []\n",
    "        \n",
    "        while j < self.n and i < self.n and i + 2 < self.n:\n",
    "            \n",
    "            d1 = bytestream[i] + 256 * (bytestream[i+1] % 16)\n",
    "            d2 = self.rounding(bytestream[i+1] / 16) + 16 * bytestream[i+2]\n",
    "            \n",
    "            if d1 < self.q :\n",
    "                \n",
    "                a.append(d1)\n",
    "                j = j + 1\n",
    "            \n",
    "            if d2 < self.q and j < self.n and i < self.n:\n",
    "                \n",
    "                a.append(d2)\n",
    "                j = j + 1\n",
    "                \n",
    "            i = i + 3\n",
    "            \n",
    "        return self.Rq(a)\n",
    "    \n",
    "    \n",
    "    \n",
    "    def CBD(self,bytestream,nbin):\n",
    "        \n",
    "        bitstream = self.BytesToBits(bytestream)\n",
    "        f = []\n",
    "        i = 0\n",
    "        \n",
    "        while i < self.n - 1:\n",
    "            \n",
    "            j = 0\n",
    "            while j < nbin- 1:\n",
    "              \n",
    "                a = int(bitstream[2*i*nbin + j])\n",
    "                b = int(bitstream[2*i*nbin + nbin + j])\n",
    "                \n",
    "                j = j + 1\n",
    "            \n",
    "            i = i + 1\n",
    "            f.append(a-b)\n",
    "        \n",
    "        return self.Rq(f)\n",
    "            \n",
    "    # Byte array of 32l bytes\n",
    "    def Decode(self,bytestream):\n",
    "        \n",
    "        l = len(bytestream) / 32 \n",
    "        f = []\n",
    "        bitstream = self.BytesToBits(bytestream)\n",
    "        i = 0\n",
    "        \n",
    "        while i < self.n - 1:\n",
    "            \n",
    "            j = 0\n",
    "            while j < l - 1:\n",
    "            \n",
    "                f.append(bitstream[i*l + j] * 2^j)\n",
    "                \n",
    "                j = j + 1\n",
    "                \n",
    "            i = i + 1\n",
    "        \n",
    "        return self.Rq(f)\n",
    "    \n",
    "    \n",
    "    \n",
    "    def Encode(self,poly):\n",
    "        \n",
    "        h = list(poly)\n",
    "        print(len(h) / 32)\n",
    "        l = len(h) / 32\n",
    "        res = []\n",
    "        i = 0\n",
    "        \n",
    "        while i < self.n - 1:\n",
    "            \n",
    "            j = 0\n",
    "            while j < l - 1:\n",
    "            \n",
    "            \n",
    "                res.append(h[i*l + j] / 2^j)\n",
    "                \n",
    "                j = j + 1\n",
    "                \n",
    "            i = i + 1\n",
    "        \n",
    "        return res\n",
    "        \n",
    "    def XOF(self,p,i,j):\n",
    "        \n",
    "        m = shake_128()\n",
    "        dig = p + bytes([i]) + bytes([j])\n",
    "        m.update(dig)\n",
    "        \n",
    "        return m.digest(int(self.n))\n",
    "    \n",
    "    def PRF(self,o,N):\n",
    "        \n",
    "        m = shake_256()\n",
    "        dig = o + bytes([N])\n",
    "        m.update(dig)\n",
    "        \n",
    "        return m.digest(int(self.n))\n",
    "    \n",
    "    \n",
    "    \n",
    "    def mult_mat_vec(self, matrix, vector):\n",
    "        res = [None] * (self.k)\n",
    "        for i in range(self.k):\n",
    "            res[i] = 0\n",
    "            for j in range(self.k): \n",
    "                mult = self.Rq(vector[j]) * self.Rq(matrix[i * (self.k) + j])\n",
    "                res[i] += self.Rq(mult)    \n",
    "        return res\n",
    "    \n",
    "    def sum_vec(self,vec1,vec2):\n",
    "        \n",
    "        res = [None]*self.k\n",
    "            \n",
    "        i = 0\n",
    "        while i < self.k:\n",
    "                \n",
    "                res[i] = self.Rq(vec1[i]) + self.Rq(vec2[i])\n",
    "                \n",
    "                i = i + 1\n",
    "                \n",
    "        return res\n",
    "    \n",
    "    def sub_vec(self,vec1,vec2):\n",
    "        \n",
    "        res = [None]*self.k\n",
    "            \n",
    "        i = 0\n",
    "        while i < self.k:\n",
    "                \n",
    "                res[i] = self.Rq(vec1[i]) - self.Rq(vec2[i])\n",
    "                \n",
    "                i = i + 1\n",
    "                \n",
    "        return res\n",
    "    \n",
    "    \n",
    "    def mult_vec(self,vec1,vec2):\n",
    "        \n",
    "        res = [0]*self.k\n",
    "        \n",
    "        i = 0\n",
    "        while i < self.k:\n",
    "            \n",
    "            res[i] = res[i] + self.Rq(vec1[i]) * self.Rq(vec2[i])\n",
    "            i = i + 1\n",
    "            \n",
    "        return res\n",
    "          \n",
    "    \n",
    "    def keygen(self):\n",
    "        \n",
    "        d = os.urandom(32)\n",
    "        p = sha3_512(d).digest()\n",
    "        o = p[-32:]\n",
    "        A = [None] * ((self.k)* (self.k))\n",
    "        s = [None]*self.k\n",
    "        e = [None]*self.k\n",
    "        N = 0\n",
    "        t = [None]*self.k\n",
    "        \n",
    "        \n",
    "        i = 0\n",
    "        while i < self.k:\n",
    "            \n",
    "            j = 0\n",
    "            while j < self.k:\n",
    "                \n",
    "                index = i*(self.k)+j\n",
    "                A[index] = self.Parse(self.XOF(p,i,j))\n",
    "                j = j + 1\n",
    "            \n",
    "            i = i + 1\n",
    "        \n",
    "        i = 0\n",
    "        while i < self.k:\n",
    "                \n",
    "            s[i] = self.CBD(self.PRF(o,N),self.nbin1)\n",
    "            N = N + 1\n",
    "            i = i + 1\n",
    "        \n",
    "        i = 0\n",
    "        while i < self.k:\n",
    "                \n",
    "            e[i] = self.CBD(self.PRF(o,N),self.nbin1)\n",
    "            N = N + 1\n",
    "            i = i + 1\n",
    "        \n",
    "        i = 0\n",
    "         \n",
    "        t = self.sum_vec(self.mult_mat_vec(A,s),e)\n",
    "        \n",
    "        pk = t\n",
    "        sk = s\n",
    "        \n",
    "        return (pk,sk)\n",
    "    \n",
    "    def enc(self,pub_key,message):\n",
    "        \n",
    "        rcoins = os.urandom(32)\n",
    "        A = [None] * ((self.k)* (self.k))\n",
    "        r = [None]*self.k\n",
    "        e1 = [None]*self.k\n",
    "        e2 = [None]*self.k\n",
    "        c1 = [None]*self.k\n",
    "        c2 = [None]*self.k\n",
    "        N = 0\n",
    "        p = sha3_512(rcoins).digest()\n",
    "        i = 0\n",
    "        \n",
    "        while i < self.k:\n",
    "            j = 0\n",
    "            while j < self.k:\n",
    "                index = i*(self.k)+j\n",
    "                A[index] = self.Parse(self.XOF(p,i,j))\n",
    "                j = j + 1\n",
    "            i = i + 1\n",
    "        \n",
    "        i = 0\n",
    "        while i < self.k:\n",
    "            \n",
    "            r[i] = self.CBD(self.PRF(rcoins,N),self.nbin1)\n",
    "            i = i + 1\n",
    "            N = N + 1\n",
    "            \n",
    "        i = 0  \n",
    "        while i < self.k:\n",
    "            \n",
    "            e1[i] = self.CBD(self.PRF(rcoins,N),self.nbin2)\n",
    "            i = i + 1\n",
    "            N = N + 1\n",
    "            \n",
    "        e2 = self.CBD(self.PRF(rcoins,N),self.nbin2)\n",
    "        u = self.sum_vec(self.mult_mat_vec(A,r),e1)\n",
    "        v = self.sum_vec(self.sum_vec(self.mult_vec(pub_key,r),e2),self.decompress(message,1))\n",
    "        \n",
    "        i = 0\n",
    "        while i < self.k:\n",
    "            \n",
    "            c1[i] = self.compress(u[i],self.du)\n",
    "            c2[i] = self.compress(v[i],self.dv)\n",
    "            \n",
    "            i = i + 1\n",
    "        return (c1,c2)\n",
    "    \n",
    "    def dec(self,sec_key,cif):\n",
    "        \n",
    "        i = 0\n",
    "        u = [None]*self.k\n",
    "        v = [None]*self.k\n",
    "        aux = [None]*self.k\n",
    "        \n",
    "        (c1,c2) = cif\n",
    "        \n",
    "        u = self.decompress(c1,self.du)\n",
    "        \n",
    "        while i < self.k:\n",
    "            \n",
    "            u[i] = self.decompress(c1[i],self.du)\n",
    "            \n",
    "            i = i + 1\n",
    "        \n",
    "        v = self.decompress(c2,self.dv)\n",
    "        \n",
    "        while i < self.k:\n",
    "            \n",
    "            aux[i] = self.mult_vec(sec_key[i],u[i])\n",
    "            \n",
    "            i = i + 1\n",
    "        \n",
    "        # message = self.compress(self.sub_vec(v,aux),1)\n",
    "        return []"
   ]
  },
  {
   "cell_type": "code",
   "execution_count": 301,
   "metadata": {
    "scrolled": false
   },
   "outputs": [
    {
     "data": {
      "text/plain": [
       "[]"
      ]
     },
     "execution_count": 301,
     "metadata": {},
     "output_type": "execute_result"
    }
   ],
   "source": [
    "test = Kyber()\n",
    "td = test.Parse(os.urandom(256))\n",
    "(p,s) = test.keygen()\n",
    "cif = test.enc(p,mess)\n",
    "test.dec(s,cif)"
   ]
  }
 ],
 "metadata": {
  "kernelspec": {
   "display_name": "SageMath 9.2",
   "language": "sage",
   "name": "sagemath"
  },
  "language_info": {
   "codemirror_mode": {
    "name": "ipython",
    "version": 3
   },
   "file_extension": ".py",
   "mimetype": "text/x-python",
   "name": "python",
   "nbconvert_exporter": "python",
   "pygments_lexer": "ipython3",
   "version": "3.7.7"
  }
 },
 "nbformat": 4,
 "nbformat_minor": 4
}
