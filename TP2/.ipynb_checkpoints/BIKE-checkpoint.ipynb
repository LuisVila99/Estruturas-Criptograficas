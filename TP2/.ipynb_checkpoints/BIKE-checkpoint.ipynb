{
 "cells": [
  {
   "cell_type": "markdown",
   "metadata": {},
   "source": [
    "# BIKE"
   ]
  },
  {
   "cell_type": "markdown",
   "metadata": {},
   "source": [
    "## Imports\n"
   ]
  },
  {
   "cell_type": "code",
   "execution_count": 1,
   "metadata": {},
   "outputs": [],
   "source": [
    "import random as rn\n",
    "import numpy as np"
   ]
  },
  {
   "cell_type": "markdown",
   "metadata": {},
   "source": [
    "## Code"
   ]
  },
  {
   "cell_type": "code",
   "execution_count": 21,
   "metadata": {},
   "outputs": [],
   "source": [
    "class BIKE:\n",
    "    def __init__(self, r, t):\n",
    "        self.K = GF(2)\n",
    "        self.um = self.K(1)\n",
    "        self.zero = self.K(0)\n",
    "        \n",
    "        self.r = r\n",
    "        self.n = 2*r\n",
    "        self.t = t\n",
    "        \n",
    "        self.Vn  = VectorSpace(self.K,self.n)\n",
    "        self.Vr  = VectorSpace(self.K,self.r)\n",
    "        self.Vq  = VectorSpace(QQ,self.r)\n",
    "        \n",
    "        self.Mr  = MatrixSpace(self.K,self.n,self.r)\n",
    "        \n",
    "        self.R = PolynomialRing(self.K,name='w')\n",
    "        self.w = self.R.gen()\n",
    "        self.Rr = QuotientRing(self.R,self.R.ideal(self.w^self.r+1))\n",
    "        \n",
    "    \n",
    "    # mask ???\n",
    "    \n",
    "    # hamm ???\n",
    "    \n",
    "    \n",
    "    def key_gen(self):\n",
    "        h0 = self.sparse_pol()\n",
    "        h1 = self.sparse_pol()\n",
    "        while(not (h0 != h1 and h0.is_unit() and h1.is_unit())):\n",
    "            h0 = self.sparse_pol()\n",
    "            h1 = self.sparse_pol()\n",
    "        private = (h0, h1)\n",
    "        public = (1, h0/h1)\n",
    "        return(public, private)    \n",
    "    \n",
    "    def enc(self, private, mess):\n",
    "        (g0, g1) = private\n",
    "        (e0, e1) = self.noise(self.t)        \n",
    "        return (mess * g0 + e0, mess * g1 + e1)\n",
    "    \n",
    "    def dec(self, public, cripto):\n",
    "        vec = self.expand2(cripto)\n",
    "    \n",
    "        (h0, h1) = public\n",
    "        H = block_matrix(2,1,[self.Rot(h0),self.Rot(h1)])\n",
    "        synd = vec * H \n",
    "    \n",
    "        cw = self.BF(H,code,synd) \n",
    "    \n",
    "        (cw0,cw1) = self.unexpand2(cw)  \n",
    "    \n",
    "        return cw0\n",
    "    \n",
    "\n",
    "    \n",
    "    #def keygen(y):\n",
    "    #    Z.<X> = QQ[]\n",
    "    #    r = random_prime(2^y-1, false, 2^(y-1))\n",
    "    #    g1 = (pow(X,r)-1)\n",
    "    #    g2 = (X-1)\n",
    "    #    print(g1.is_irreducible())\n",
    "    #    print(g2.is_irreducible())\n",
    "    #    while(not g1.is_irreducible() and not g2.is_irreducible()):\n",
    "    #        r = random_prime(2^y-1, false, 2^(y-1))            \n",
    "    #    print(r) # forma de calcular o r provavelmente errada\n",
    "    \n",
    "    def rot(self, h):\n",
    "        v = Vr() ; v[0] = h[-1]\n",
    "        for i in range(r-1):\n",
    "            v[i+1] = h[i]\n",
    "        return v\n",
    "\n",
    "    def Rot(self, h):\n",
    "        M = Matrix(K,r,r) ; M[0] = expand(h)\n",
    "        for i in range(1,r):\n",
    "            M[i] = rot(M[i-1])\n",
    "        return M\n",
    "    \n",
    "    def expand(self, f):\n",
    "        fl = f.list(); ex = r - len(fl)\n",
    "        return self.Vr(fl + [zero]*ex)\n",
    "\n",
    "    def expand2(self, code):\n",
    "        (f0,f1) = code\n",
    "        f = self.expand(f0).list() + self.expand(f1).list()\n",
    "        return self.Vn(f)\n",
    "\n",
    "    def unexpand2(self, vec):\n",
    "        u = vec.list()\n",
    "        return (self.Rr(u[:r]),self.Rr(u[r:]))\n",
    "    \n",
    "    \n",
    "    def BF(self, H,code,synd,cnt_iter=r, errs=0):\n",
    "        mycode = code\n",
    "        mysynd = synd\n",
    "    \n",
    "        while cnt_iter > 0 and hamm(mysynd) > errs:\n",
    "            cnt_iter   = cnt_iter - 1\n",
    "            unsats     = [hamm(mask(mysynd,H[i])) for i in range(n)]\n",
    "            max_unsats = max(unsats)\n",
    "        \n",
    "            for i in range(n):\n",
    "                if unsats[i] == max_unsats:\n",
    "                    mycode[i]  += um               \n",
    "                    mysynd     += H[i]\n",
    "\n",
    "        if cnt_iter == 0:\n",
    "            raise ValueError(\"BF: limite de iterações ultrapassado\")\n",
    "    \n",
    "        return mycode   \n",
    "\n",
    "    \n",
    "    def sparse_pol(self, sparse=3):\n",
    "        coeffs = [1]*sparse + [0]*(self.r-2-sparse)\n",
    "        rn.shuffle(coeffs)\n",
    "        return self.Rr([1]+coeffs+[1])\n",
    "\n",
    "\n",
    "    def noise(self, t):\n",
    "        el = [self.um]*t + [self.zero]*(self.n-self.t)\n",
    "        rn.shuffle(el)  \n",
    "        return (self.Rr(el[:self.r]),self.Rr(el[self.r:]))\n",
    "        \n",
    "    "
   ]
  },
  {
   "cell_type": "markdown",
   "metadata": {},
   "source": [
    "## Testing"
   ]
  },
  {
   "cell_type": "code",
   "execution_count": 24,
   "metadata": {},
   "outputs": [
    {
     "name": "stdout",
     "output_type": "stream",
     "text": [
      "(1, wbar^253 + wbar^247 + wbar^245 + wbar^244 + wbar^241 + wbar^240 + wbar^238 + wbar^233 + wbar^232 + wbar^231 + wbar^229 + wbar^228 + wbar^227 + wbar^223 + wbar^222 + wbar^221 + wbar^218 + wbar^217 + wbar^214 + wbar^213 + wbar^211 + wbar^209 + wbar^208 + wbar^206 + wbar^205 + wbar^204 + wbar^203 + wbar^200 + wbar^199 + wbar^198 + wbar^191 + wbar^189 + wbar^188 + wbar^186 + wbar^185 + wbar^184 + wbar^182 + wbar^179 + wbar^178 + wbar^176 + wbar^175 + wbar^172 + wbar^171 + wbar^170 + wbar^167 + wbar^161 + wbar^159 + wbar^158 + wbar^157 + wbar^156 + wbar^153 + wbar^151 + wbar^150 + wbar^149 + wbar^143 + wbar^140 + wbar^139 + wbar^138 + wbar^136 + wbar^134 + wbar^133 + wbar^132 + wbar^131 + wbar^129 + wbar^128 + wbar^127 + wbar^123 + wbar^122 + wbar^121 + wbar^120 + wbar^119 + wbar^116 + wbar^115 + wbar^114 + wbar^111 + wbar^109 + wbar^108 + wbar^104 + wbar^102 + wbar^95 + wbar^94 + wbar^93 + wbar^88 + wbar^86 + wbar^84 + wbar^81 + wbar^79 + wbar^71 + wbar^70 + wbar^69 + wbar^68 + wbar^67 + wbar^65 + wbar^63 + wbar^62 + wbar^59 + wbar^53 + wbar^51 + wbar^49 + wbar^48 + wbar^47 + wbar^45 + wbar^43 + wbar^41 + wbar^39 + wbar^37 + wbar^35 + wbar^32 + wbar^27 + wbar^25 + wbar^24 + wbar^21 + wbar^14 + wbar^10 + wbar^9 + wbar^6 + wbar^5 + wbar^4 + 1) (wbar^256 + wbar^202 + wbar^197 + wbar^96 + 1, wbar^256 + wbar^207 + wbar^89 + wbar^55 + 1)\n"
     ]
    },
    {
     "ename": "NameError",
     "evalue": "name 'Rr' is not defined",
     "output_type": "error",
     "traceback": [
      "\u001b[0;31m---------------------------------------------------------------------------\u001b[0m",
      "\u001b[0;31mNameError\u001b[0m                                 Traceback (most recent call last)",
      "\u001b[0;32m<ipython-input-24-8ccbab40302c>\u001b[0m in \u001b[0;36m<module>\u001b[0;34m\u001b[0m\n\u001b[1;32m      3\u001b[0m \u001b[0;34m(\u001b[0m\u001b[0mg\u001b[0m\u001b[0;34m,\u001b[0m \u001b[0mh\u001b[0m\u001b[0;34m)\u001b[0m \u001b[0;34m=\u001b[0m \u001b[0mb\u001b[0m\u001b[0;34m.\u001b[0m\u001b[0mkey_gen\u001b[0m\u001b[0;34m(\u001b[0m\u001b[0;34m)\u001b[0m\u001b[0;34m\u001b[0m\u001b[0;34m\u001b[0m\u001b[0m\n\u001b[1;32m      4\u001b[0m \u001b[0mprint\u001b[0m\u001b[0;34m(\u001b[0m\u001b[0mg\u001b[0m\u001b[0;34m,\u001b[0m \u001b[0mh\u001b[0m\u001b[0;34m)\u001b[0m\u001b[0;34m\u001b[0m\u001b[0;34m\u001b[0m\u001b[0m\n\u001b[0;32m----> 5\u001b[0;31m \u001b[0mm\u001b[0m \u001b[0;34m=\u001b[0m \u001b[0mRr\u001b[0m\u001b[0;34m.\u001b[0m\u001b[0mrandom_element\u001b[0m\u001b[0;34m(\u001b[0m\u001b[0;34m)\u001b[0m\u001b[0;34m\u001b[0m\u001b[0;34m\u001b[0m\u001b[0m\n\u001b[0m\u001b[1;32m      6\u001b[0m \u001b[0mcr\u001b[0m \u001b[0;34m=\u001b[0m \u001b[0mb\u001b[0m\u001b[0;34m.\u001b[0m\u001b[0menc\u001b[0m\u001b[0;34m(\u001b[0m\u001b[0mg\u001b[0m\u001b[0;34m,\u001b[0m \u001b[0mm\u001b[0m\u001b[0;34m)\u001b[0m\u001b[0;34m\u001b[0m\u001b[0;34m\u001b[0m\u001b[0m\n\u001b[1;32m      7\u001b[0m \u001b[0mprint\u001b[0m\u001b[0;34m(\u001b[0m\u001b[0mcr\u001b[0m\u001b[0;34m)\u001b[0m\u001b[0;34m\u001b[0m\u001b[0;34m\u001b[0m\u001b[0m\n",
      "\u001b[0;31mNameError\u001b[0m: name 'Rr' is not defined"
     ]
    }
   ],
   "source": [
    "b = BIKE(257, 16)\n",
    "\n",
    "(g, h) = b.key_gen()\n",
    "print(g, h)\n",
    "m = Rr.random_element()\n",
    "cr = b.enc(g, m)\n",
    "print(cr)\n",
    "d = b.dec(h, cr)\n",
    "print(d)"
   ]
  },
  {
   "cell_type": "code",
   "execution_count": null,
   "metadata": {},
   "outputs": [],
   "source": []
  }
 ],
 "metadata": {
  "kernelspec": {
   "display_name": "SageMath 9.2",
   "language": "sage",
   "name": "sagemath"
  },
  "language_info": {
   "codemirror_mode": {
    "name": "ipython",
    "version": 3
   },
   "file_extension": ".py",
   "mimetype": "text/x-python",
   "name": "python",
   "nbconvert_exporter": "python",
   "pygments_lexer": "ipython3",
   "version": "3.7.7"
  }
 },
 "nbformat": 4,
 "nbformat_minor": 4
}
