{
 "cells": [
  {
   "cell_type": "markdown",
   "metadata": {},
   "source": [
    "# Dilithium"
   ]
  },
  {
   "cell_type": "markdown",
   "metadata": {},
   "source": [
    "## gen"
   ]
  },
  {
   "cell_type": "markdown",
   "metadata": {},
   "source": [
    "Função de geração de chaves pública e privada. Começa por se gerar uma matriz de polinómios em Rq, de seguida calculam-se os vectores para a chave secreta s1 e s2. Por fim, a segunda parte da chave pública, t, é calculada e o valor retornado pela função é um par onde um elemento é a chave pública e o outro a chave privada."
   ]
  },
  {
   "cell_type": "markdown",
   "metadata": {},
   "source": [
    "## sign"
   ]
  },
  {
   "cell_type": "markdown",
   "metadata": {},
   "source": [
    "Função que recebendo uma mensagem e uma chave privada, faz a assiantura da mensagem, retornando esta assiantura no final. Para tal necessita da chave privada e de efetuar um hash. Deste hash resulta \"c\", e por fim, com \"c\", é possível calcular \"z\"."
   ]
  },
  {
   "cell_type": "markdown",
   "metadata": {},
   "source": [
    "## verify"
   ]
  },
  {
   "cell_type": "markdown",
   "metadata": {},
   "source": [
    "Função que recebe uma mensagem, uma chave pública e o resultado da função sign e verifica se a chave corresponde à mensagem passada como argumento."
   ]
  },
  {
   "cell_type": "markdown",
   "metadata": {},
   "source": [
    "## Imports e variáveis globais"
   ]
  },
  {
   "cell_type": "code",
   "execution_count": 1,
   "metadata": {},
   "outputs": [],
   "source": [
    "import hashlib\n",
    "\n",
    "n = 256\n",
    "q = 8380417\n",
    "k = 3\n",
    "l = 2\n",
    "peso = 60\n",
    "\n",
    "neta = 7\n",
    "gama1 = (q-1)/16\n",
    "gama2 = gama1/2\n",
    "beta = 375\n",
    "\n",
    "Zx.<x>  = ZZ[]\n",
    "Gq.<z>  = PolynomialRing(GF(q))\n",
    "\n",
    "R.<x>  = Zx.quotient(x^n+1)\n",
    "Rq.<z> = Gq.quotient(z^n+1)"
   ]
  },
  {
   "cell_type": "markdown",
   "metadata": {},
   "source": [
    "## Funções auxiliares"
   ]
  },
  {
   "cell_type": "code",
   "execution_count": 2,
   "metadata": {},
   "outputs": [],
   "source": [
    "def S(limit,size):\n",
    "    lista = []\n",
    "    for i in range(size):\n",
    "        poly = []\n",
    "        for j in range(n):\n",
    "            poly.append(randint(1,limit))\n",
    "        lista.append(Rq(poly))\n",
    "    \n",
    "    res = matrix(Rq,size,1,lista)\n",
    "    return res\n",
    "\n",
    "def Decompose(C,alfa):\n",
    "\n",
    "    r = mod(C,int(q))\n",
    "    r0 = int(mod(r, int(alfa)))\n",
    "\n",
    "    if (r-r0) == (q-1):\n",
    "        r1 = 0\n",
    "        r0 = r0 - 1\n",
    "    else:\n",
    "        r1 = (r-r0)/(int(alfa))\n",
    "\n",
    "    return (r1,r0)\n",
    "\n",
    "def auxHB(r):\n",
    "    \n",
    "    res = Decompose(r,2*gama2)\n",
    "        \n",
    "    return res[0]\n",
    "\n",
    "def HighBits(polys):\n",
    "    \n",
    "    lista = polys.list()\n",
    "    \n",
    "    for i in range(len(lista)):\n",
    "        poly = lista[i]\n",
    "        polyL = poly.list()\n",
    "        \n",
    "        for j in range(len(polyL)):\n",
    "            polyL[j] = auxHB(int(polyL[j]))\n",
    "        \n",
    "        lista[i] = polyL\n",
    "\n",
    "    return lista\n",
    "\n",
    "\n",
    "def LowBits(poly):\n",
    "    lista = poly.list()\n",
    "    for i in range(len(lista)):\n",
    "        f = lista[i]\n",
    "        F = f.list()\n",
    "        for j in range(len(F)):\n",
    "            F[j] = auxLB(int(F[j]))\n",
    "        \n",
    "        lista[i] = F\n",
    "\n",
    "    return lista\n",
    "\n",
    "def auxLB(C):\n",
    "    res = Decompose(C,2*gama2)\n",
    "    return res[1]\n",
    "\n",
    "def normal(v):\n",
    "    \n",
    "    for i in range(2):\n",
    "        norma = auxNormal(v[i],q)\n",
    "        v[i] = norma\n",
    "    return max(v)\n",
    "\n",
    "def auxNormal(poly,number):\n",
    "    lista = poly.list()\n",
    "    for i in range(len(lista)):\n",
    "        f = lista[i]\n",
    "        F = f.list()\n",
    "        for j in range(len(F)):\n",
    "            F[j] = abs(int(F[j]))\n",
    "        lista[i]=F\n",
    "\n",
    "    List = []\n",
    "    for i in range(len(lista)):\n",
    "        List.append(max(lista[i]))\n",
    "    \n",
    "    return max(List)\n",
    "\n",
    "def H(value):\n",
    "    H = []\n",
    "    contador = 0\n",
    "    contador_ = 0\n",
    "    for i in range(0,n,2):\n",
    "        u=value[i]+value[i+1]\n",
    "        contador = contador + 1\n",
    "        if u == '11':\n",
    "            H.append(0)\n",
    "        if u == '01':\n",
    "            H.append(1)\n",
    "            contador_ = contador_ + 1\n",
    "        if u == '00':\n",
    "            pass\n",
    "        if u == '10':\n",
    "            H.append(-1)\n",
    "            contador_ = contador_ + 1\n",
    "        if contador_ >= peso:\n",
    "            break\n",
    "    \n",
    "    for i in range(n-contador):\n",
    "        H.append(0)\n",
    "    \n",
    "    return H\n"
   ]
  },
  {
   "cell_type": "markdown",
   "metadata": {},
   "source": [
    "## Funções principais"
   ]
  },
  {
   "cell_type": "code",
   "execution_count": 3,
   "metadata": {},
   "outputs": [],
   "source": [
    "def gen():\n",
    "    \n",
    "    auxA = []\n",
    "    \n",
    "    for i in range(k*l):\n",
    "        \n",
    "        auxA.append(Rq.random_element())\n",
    "    \n",
    "    A = matrix(Rq,k,l,auxA)\n",
    "    \n",
    "    s1 = S(neta,l)\n",
    "    s2 = S(neta,k)\n",
    "    \n",
    "    t = A*s1 + s2\n",
    "    \n",
    "    pk = (A,t)\n",
    "    sk = (A,t,s1,s2)\n",
    "    \n",
    "    return (pk,sk)"
   ]
  },
  {
   "cell_type": "code",
   "execution_count": 4,
   "metadata": {},
   "outputs": [],
   "source": [
    "def sign(keys,m):\n",
    "    \n",
    "    pk,sk = keys\n",
    "    z = None\n",
    "    c = None\n",
    "    A,t = pk\n",
    "    A,t,s1,s2 = sk\n",
    "    \n",
    "    flag = True\n",
    "    \n",
    "    while z == None and flag == True:\n",
    "        \n",
    "        y = S(gama1-1, l)\n",
    "        Ay = A*y\n",
    "        \n",
    "        w1 = HighBits(Ay)\n",
    "        \n",
    "        string = ''\n",
    "        string = string + m[2:]\n",
    "        \n",
    "        # w1 to string to be hashed\n",
    "        for i in range(len(w1)):\n",
    "            for j in range(len(w1[i])):\n",
    "                k = bin(w1[i][j])\n",
    "                if w1[i][j] >= 0:\n",
    "                    string = string + k[2:]\n",
    "                if w1[i][j] < 0:\n",
    "                    string = string + k[3:]\n",
    "        \n",
    "        c = H(string)\n",
    "        cQ = Rq(c)\n",
    "        \n",
    "        z = y + cQ*s1\n",
    "        \n",
    "        if (int(normal(z)[0])) >= (gama1-beta) and (normal(LowBits(Ay-cQ*s2))) >= (gama2-beta):\n",
    "        \n",
    "            flag = True\n",
    "            \n",
    "        else:\n",
    "            \n",
    "            flag = false\n",
    "        \n",
    "    return (z,c)"
   ]
  },
  {
   "cell_type": "code",
   "execution_count": 5,
   "metadata": {},
   "outputs": [],
   "source": [
    "def verify(pk,m,cripto):\n",
    "    \n",
    "    (z,c) = cripto\n",
    "    (A,t) = pk\n",
    "    \n",
    "    cQ = Rq(c)\n",
    "    \n",
    "    w1 = HighBits(A*z-cQ*t)\n",
    "    \n",
    "    string = ''\n",
    "    string = string + m[2:]\n",
    "\n",
    "    for i in range(len(w1)):\n",
    "        for j in range(len(w1[i])):\n",
    "            k = bin(w1[i][j])\n",
    "            if w1[i][j] >= 0:\n",
    "                string = string + k[2:]\n",
    "            if w1[i][j] < 0:\n",
    "                string = string + k[3:]\n",
    "    \n",
    "    hashC = H(string) \n",
    "\n",
    "    if (int(normal(z)[0])) < (gama1-beta) and hashC == c:\n",
    "        print ('Passed!')\n",
    "        return 1\n",
    "    else:\n",
    "        print ('Failed verify!')\n",
    "        return 0"
   ]
  },
  {
   "cell_type": "markdown",
   "metadata": {},
   "source": [
    "## Teste"
   ]
  },
  {
   "cell_type": "markdown",
   "metadata": {},
   "source": [
    "Devido a um erro de implementação, a verificação falha."
   ]
  },
  {
   "cell_type": "code",
   "execution_count": 6,
   "metadata": {},
   "outputs": [
    {
     "name": "stdout",
     "output_type": "stream",
     "text": [
      "Failed verify!\n"
     ]
    },
    {
     "data": {
      "text/plain": [
       "0"
      ]
     },
     "execution_count": 6,
     "metadata": {},
     "output_type": "execute_result"
    }
   ],
   "source": [
    "keys = gen()\n",
    "pk,sk = keys\n",
    "text = bin(1024)\n",
    "cripto = sign(keys,text)\n",
    "\n",
    "verify(pk,text,cripto)"
   ]
  }
 ],
 "metadata": {
  "kernelspec": {
   "display_name": "SageMath 9.2",
   "language": "sage",
   "name": "sagemath"
  },
  "language_info": {
   "codemirror_mode": {
    "name": "ipython",
    "version": 3
   },
   "file_extension": ".py",
   "mimetype": "text/x-python",
   "name": "python",
   "nbconvert_exporter": "python",
   "pygments_lexer": "ipython3",
   "version": "3.7.7"
  }
 },
 "nbformat": 4,
 "nbformat_minor": 4
}
