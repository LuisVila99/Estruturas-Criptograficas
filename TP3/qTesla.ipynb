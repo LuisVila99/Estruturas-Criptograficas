{
 "cells": [
  {
   "cell_type": "code",
   "execution_count": 3,
   "metadata": {},
   "outputs": [],
   "source": [
    "import hashlib\n",
    "import os"
   ]
  },
  {
   "cell_type": "code",
   "execution_count": 6,
   "metadata": {},
   "outputs": [],
   "source": [
    "n = 256\n",
    "q = 8380417\n",
    "k = 3\n",
    "l = 2 \n",
    "neta = 7\n",
    "\n",
    "Gq.<z>  = PolynomialRing(GF(q))\n",
    "Rq.<z> = Gq.quotient(z^n+1)"
   ]
  },
  {
   "cell_type": "code",
   "execution_count": 7,
   "metadata": {},
   "outputs": [],
   "source": [
    "def sam (limit,size):\n",
    "    lista = []\n",
    "    for i in range(size):\n",
    "        poly = []\n",
    "        for j in range(n):\n",
    "            poly.append(randint(1,limit))\n",
    "        lista.append(Rq(poly))\n",
    "    \n",
    "    res = matrix(Rq,size,1,lista)\n",
    "    return res"
   ]
  },
  {
   "cell_type": "code",
   "execution_count": 8,
   "metadata": {},
   "outputs": [],
   "source": [
    "def Gen():\n",
    "    auxA = []\n",
    "    \n",
    "    for i in range(k*l):\n",
    "        auxA.append(Rq.random_element())\n",
    "    \n",
    "    A = matrix(Rq,k,l,auxA)\n",
    "    \n",
    "    s = sam(neta,l)\n",
    "    e = sam(neta,k)\n",
    "    \n",
    "    t = A*s + e #(mod q) ????\n",
    "    \n",
    "    g = Gq.random_element()\n",
    "    sk = (s, e, A)\n",
    "    pk = (A, t)\n",
    "    \n",
    "    return (sk, pk)"
   ]
  },
  {
   "cell_type": "code",
   "execution_count": null,
   "metadata": {},
   "outputs": [],
   "source": []
  }
 ],
 "metadata": {
  "kernelspec": {
   "display_name": "SageMath 9.2",
   "language": "sage",
   "name": "sagemath"
  },
  "language_info": {
   "codemirror_mode": {
    "name": "ipython",
    "version": 3
   },
   "file_extension": ".py",
   "mimetype": "text/x-python",
   "name": "python",
   "nbconvert_exporter": "python",
   "pygments_lexer": "ipython3",
   "version": "3.7.7"
  }
 },
 "nbformat": 4,
 "nbformat_minor": 4
}
