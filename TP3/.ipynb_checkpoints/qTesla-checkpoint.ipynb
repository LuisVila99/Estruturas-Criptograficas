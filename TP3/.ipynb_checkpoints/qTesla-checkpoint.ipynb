{
 "cells": [
  {
   "cell_type": "markdown",
   "metadata": {},
   "source": [
    "# qTesla"
   ]
  },
  {
   "cell_type": "markdown",
   "metadata": {},
   "source": [
    "## gen\n",
    "Geração de uma chave privada e uma chave pública para assinatura de uma mensagem.\n",
    "Em A selecionam-se k polinómios aleatórios do anel Rq.\n",
    "Em s seleciona-se um polinómio segundo uma distribuição Gaussiana e em e selecionam-se k polinómios segundo uma distribuição Gaussiana.\n",
    "Calcula-se t com os valores anteriores.\n",
    "Geram-se, respetivamente, a chave privada e a pública:\n",
    "* sk = (s, e, A)\n",
    "* pk = (A, t)\n",
    "\n",
    "## sign\n",
    "Função que, recebendo uma mensagem e uma chave privada, faz a assinatura da mensagem, retornando esta assinatura no final.\n",
    "Para tal necessita da chave e de um polinómio aleatório do anel Rq (y).\n",
    "No final aplica uma função de *hash* sobre A1\\*y..Ak\\*y.\n",
    "Calcula-se também z, y+s\\*c1..y+s\\*ck.\n",
    "Retorna (z, c).\n",
    "\n",
    "## verify\n",
    "Recebendo uma mensagem, uma assinatura e uma chave privada, verifica que a chave corresponde (ou não) à mensagem passada como argumento. Deverá retornar True caso tal se verifique e False caso contrário."
   ]
  },
  {
   "cell_type": "markdown",
   "metadata": {},
   "source": [
    "## Imports"
   ]
  },
  {
   "cell_type": "code",
   "execution_count": 272,
   "metadata": {},
   "outputs": [],
   "source": [
    "import os\n",
    "from sage.stats.distributions.discrete_gaussian_polynomial import DiscreteGaussianDistributionPolynomialSampler\n",
    "from hashlib import shake_128"
   ]
  },
  {
   "cell_type": "markdown",
   "metadata": {},
   "source": [
    "## Variáveis globais"
   ]
  },
  {
   "cell_type": "code",
   "execution_count": 273,
   "metadata": {},
   "outputs": [],
   "source": [
    "n = 256\n",
    "q = 8380417\n",
    "k = 3\n",
    "sigma = 3 \n",
    "\n",
    "Gq.<z>  = PolynomialRing(GF(q))\n",
    "Rq.<z> = Gq.quotient(z^n+1)"
   ]
  },
  {
   "cell_type": "markdown",
   "metadata": {},
   "source": [
    "## Funções"
   ]
  },
  {
   "cell_type": "code",
   "execution_count": 274,
   "metadata": {},
   "outputs": [],
   "source": [
    "def gen():\n",
    "    A = [Rq.random_element() for _ in range(k)]    \n",
    "    s = DiscreteGaussianDistributionPolynomialSampler(Rq, 64, sigma)()\n",
    "    e = [DiscreteGaussianDistributionPolynomialSampler(Rq, 64, sigma)() for _ in range(k)]\n",
    "    \n",
    "    t = [A[i] * s + e[i] for i in range(k)]\n",
    "    \n",
    "    sk = (s, e, A)\n",
    "    pk = (A, t)\n",
    "    \n",
    "    return (sk, pk)\n",
    "\n",
    "\n",
    "def sign(m, sk):\n",
    "    (s, e, A) = sk\n",
    "    y = Rq.random_element()\n",
    "    #print([A[i]*y for i in range(k)])\n",
    "    c = [hash(A[i]*y) for i in range(k)] + [hash(m)]\n",
    "    z = [y + s*c[i] for i in range(k)]\n",
    "    return (z,c)\n",
    "\n",
    "def verify(m, pk, sig):\n",
    "    (z, c) = sig\n",
    "    (A, t) = pk\n",
    "    w = [A[i]*z[i]-t[i]*c[i] for i in range(k)]\n",
    "    #print('---------------------------------------------------------------------------------------------------')\n",
    "    #print(w)\n",
    "    return c == [hash(w[i]) for i in range(k)] + [hash(m)]\n",
    "    "
   ]
  },
  {
   "cell_type": "markdown",
   "metadata": {},
   "source": [
    "## Teste\n",
    "Devido a um erro de implementação, a verificação falha."
   ]
  },
  {
   "cell_type": "code",
   "execution_count": 275,
   "metadata": {},
   "outputs": [
    {
     "data": {
      "text/plain": [
       "False"
      ]
     },
     "execution_count": 275,
     "metadata": {},
     "output_type": "execute_result"
    }
   ],
   "source": [
    "m = Rq.random_element()\n",
    "(sk,pk) = gen()\n",
    "(z,c) = sign(m, sk)\n",
    "verify(m, pk, (z,c))"
   ]
  },
  {
   "cell_type": "code",
   "execution_count": null,
   "metadata": {},
   "outputs": [],
   "source": []
  }
 ],
 "metadata": {
  "kernelspec": {
   "display_name": "SageMath 9.2",
   "language": "sage",
   "name": "sagemath"
  },
  "language_info": {
   "codemirror_mode": {
    "name": "ipython",
    "version": 3
   },
   "file_extension": ".py",
   "mimetype": "text/x-python",
   "name": "python",
   "nbconvert_exporter": "python",
   "pygments_lexer": "ipython3",
   "version": "3.7.7"
  }
 },
 "nbformat": 4,
 "nbformat_minor": 4
}
