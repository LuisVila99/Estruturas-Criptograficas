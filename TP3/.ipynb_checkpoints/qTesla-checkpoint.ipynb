{
 "cells": [
  {
   "cell_type": "code",
   "execution_count": 111,
   "metadata": {},
   "outputs": [],
   "source": [
    "import hashlib\n",
    "import os\n",
    "from sage.stats.distributions.discrete_gaussian_polynomial import DiscreteGaussianDistributionPolynomialSampler\n",
    "import hashlib"
   ]
  },
  {
   "cell_type": "code",
   "execution_count": 112,
   "metadata": {},
   "outputs": [],
   "source": [
    "n = 256\n",
    "q = 8380417\n",
    "k = 3\n",
    "l = 2 \n",
    "sigma = 3 \n",
    "\n",
    "Gq.<z>  = PolynomialRing(GF(q))\n",
    "Rq.<z> = Gq.quotient(z^n+1)\n",
    "R.<t> = QQ[]"
   ]
  },
  {
   "cell_type": "code",
   "execution_count": 113,
   "metadata": {},
   "outputs": [],
   "source": [
    "def gen():\n",
    "    A = [Rq.random_element() for _ in range(k)]    \n",
    "    s = [DiscreteGaussianDistributionPolynomialSampler(Rq, 64, sigma)() for _ in range(k)]\n",
    "    e = [DiscreteGaussianDistributionPolynomialSampler(Rq, 64, sigma)() for _ in range(k)]\n",
    "    \n",
    "    t = [A[i] * s[i] + e[i] for i in range(k)]\n",
    "    \n",
    "    sk = (s, e, A)\n",
    "    pk = (A, t)\n",
    "    \n",
    "    return (sk, pk)\n",
    "\n",
    "\n",
    "def sign(m, sk):\n",
    "    (s, e, A) = sk\n",
    "    y = Rq.random_element()\n",
    "    c = [hash(A[i]*y) for i in range(k)] # + parte do m \n",
    "    z = [y + s[i]*c[i] for i in range(k)]\n",
    "    return (z,c)\n",
    "\n",
    "def verify(m, pk, sig):\n",
    "    (z, c) = sig\n",
    "    (A, t) = pk\n",
    "    w = [A[i]*z[i]-t[i]*c[i] for i in range(k)]\n",
    "    return c == [hash(w[i]) for i in range(k)]\n",
    "        \n",
    "    "
   ]
  },
  {
   "cell_type": "code",
   "execution_count": 114,
   "metadata": {},
   "outputs": [
    {
     "name": "stdout",
     "output_type": "stream",
     "text": [
      "False\n"
     ]
    }
   ],
   "source": [
    "m = bin(1024)\n",
    "(sk,pk) = gen()\n",
    "(z,c) = sign(m, sk)\n",
    "print(verify(m, pk, (z,c)))"
   ]
  },
  {
   "cell_type": "code",
   "execution_count": null,
   "metadata": {},
   "outputs": [],
   "source": []
  }
 ],
 "metadata": {
  "kernelspec": {
   "display_name": "SageMath 9.2",
   "language": "sage",
   "name": "sagemath"
  },
  "language_info": {
   "codemirror_mode": {
    "name": "ipython",
    "version": 3
   },
   "file_extension": ".py",
   "mimetype": "text/x-python",
   "name": "python",
   "nbconvert_exporter": "python",
   "pygments_lexer": "ipython3",
   "version": "3.7.7"
  }
 },
 "nbformat": 4,
 "nbformat_minor": 4
}
