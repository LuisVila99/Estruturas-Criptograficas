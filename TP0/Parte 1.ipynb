{
 "cells": [
  {
   "cell_type": "markdown",
   "metadata": {},
   "source": [
    "## Problema 1\n",
    "A solução apresentada de seguida é referente ao problema da comunicação privada assíncrona entre um emissor e um recetor.  Para a realização desta solução foi necessário implementar duas funções: emitter e receiver. A função emitter têm como objectivo o envio e cifragem da mensagem e autenticação dos respectivos metadados, bem como da criação da chave usada na cifra e a sua assinatura. A função receiver  têm como objectivo a decifragem da mensagem e metadados enviados pelo emitter, bem como da autenticação destes metadados e verificação da chave usada pelo emitter."
   ]
  },
  {
   "cell_type": "markdown",
   "metadata": {},
   "source": [
    "## Imports"
   ]
  },
  {
   "cell_type": "code",
   "execution_count": 1,
   "metadata": {},
   "outputs": [],
   "source": [
    "import socket\n",
    "import time\n",
    "import os \n",
    "from cryptography.hazmat.primitives import hashes, hmac\n",
    "from cryptography.hazmat.backends import default_backend\n",
    "from cryptography.hazmat.primitives.kdf.pbkdf2 import PBKDF2HMAC\n",
    "from cryptography.hazmat.primitives.ciphers import (\n",
    "    Cipher, algorithms, modes\n",
    ")"
   ]
  },
  {
   "cell_type": "markdown",
   "metadata": {},
   "source": [
    "## Globals"
   ]
  },
  {
   "cell_type": "code",
   "execution_count": 2,
   "metadata": {},
   "outputs": [],
   "source": [
    "########## Variáveis globais para comunicação assíncrona\n",
    "salt = os.urandom(16)\n",
    "\n",
    "iv = os.urandom(12)\n",
    "\n",
    "ciphertext = b''\n",
    "\n",
    "tag = b''\n",
    "\n",
    "associated_data = b'data adicional'\n",
    "\n",
    "sign = b''\n",
    "####################################"
   ]
  },
  {
   "cell_type": "markdown",
   "metadata": {},
   "source": [
    "## Cifragem"
   ]
  },
  {
   "cell_type": "code",
   "execution_count": 3,
   "metadata": {},
   "outputs": [],
   "source": [
    "def emitter(plaintext):\n",
    "    global salt\n",
    "    global sign\n",
    "    global tag\n",
    "    global associated_data\n",
    "    global ciphertext\n",
    "    \n",
    "    kdf = PBKDF2HMAC(\n",
    "        algorithm=hashes.SHA256(),\n",
    "        length=32,\n",
    "        salt=salt,\n",
    "        iterations=100000,\n",
    "        backend=default_backend()\n",
    "    )\n",
    "    \n",
    "    key = kdf.derive(b\"my great password\") #Derivação de uma chave a partir de uma password\n",
    "    \n",
    "    h = hmac.HMAC(key, hashes.SHA256(), backend=default_backend())\n",
    "    h.update(key) \n",
    "    sign = h.finalize() #Assinatura da chave derivada\n",
    "    \n",
    "    \n",
    "    encryptor = Cipher(\n",
    "        algorithms.AES(key),\n",
    "        modes.GCM(iv),\n",
    "        backend=default_backend()\n",
    "    ).encryptor()\n",
    "    \n",
    "    \n",
    "    encryptor.authenticate_additional_data(associated_data)\n",
    "    ciphertext = encryptor.update(plaintext) + encryptor.finalize() #cifragem da mensagem original, originando texto cifrado\n",
    "    tag = encryptor.tag\n",
    "    return ciphertext"
   ]
  },
  {
   "cell_type": "markdown",
   "metadata": {},
   "source": [
    "## Decifragem"
   ]
  },
  {
   "cell_type": "code",
   "execution_count": 4,
   "metadata": {},
   "outputs": [],
   "source": [
    "def receiver():\n",
    "    global salt\n",
    "    global ciphertext\n",
    "    global iv\n",
    "    global tag\n",
    "    global associated_data\n",
    "    global sign\n",
    "    \n",
    "    kdf = PBKDF2HMAC(\n",
    "        algorithm=hashes.SHA256(),\n",
    "        length=32,\n",
    "        salt=salt,\n",
    "        iterations=100000,\n",
    "        backend=default_backend()\n",
    "    )\n",
    "\n",
    "    key = kdf.derive(b\"my great password\") #Derivação de uma chave a partir de uma password\n",
    "\n",
    "\n",
    "    \n",
    "    ##### Verificação da assinatura da chave \n",
    "    h = hmac.HMAC(key, hashes.SHA256(), backend=default_backend())\n",
    "    h.update(key)\n",
    "    h.verify(sign)\n",
    "    #########################\n",
    "    \n",
    "    \n",
    "    decryptor = Cipher(\n",
    "        algorithms.AES(key),\n",
    "        modes.GCM(iv, tag),\n",
    "        backend=default_backend()\n",
    "    ).decryptor()\n",
    "    decryptor.authenticate_additional_data(associated_data)\n",
    "    return decryptor.update(ciphertext) + decryptor.finalize() #decifragem do texto cifrado, resultando na mensagem original"
   ]
  },
  {
   "cell_type": "markdown",
   "metadata": {},
   "source": [
    "## Casos de teste do código e medição de tempos de execução"
   ]
  },
  {
   "cell_type": "code",
   "execution_count": 8,
   "metadata": {},
   "outputs": [
    {
     "name": "stdout",
     "output_type": "stream",
     "text": [
      "b'\\xc6\\xc2\\xe8+\\x8aXI\\xdf\\xb4f\\xc2U\\xc91\\x12%;\\x89\\xb4F\\x0e\\xdb\\xc9E\\x85x\\xef\\x10\\x03\\xb6X\\x1b'\n",
      "b'Uma mensagem fantastica e grande'\n",
      "0.1565842628479004\n",
      "1.5362012386322021\n",
      "7.494379043579102\n"
     ]
    }
   ],
   "source": [
    "i=0\n",
    "start = time.time()\n",
    "while i < 1:  \n",
    "    a = emitter(b'Uma mensagem fantastica e grande')\n",
    "    b = receiver()\n",
    "    i+=1\n",
    "end = time.time()\n",
    "print(a)\n",
    "print(b)\n",
    "print(end - start)\n",
    "\n",
    "i=0\n",
    "start = time.time()\n",
    "while i < 10:  \n",
    "    a = emitter(b'Uma mensagem fantastica e grande')\n",
    "    b = receiver()\n",
    "    i+=1\n",
    "end = time.time()\n",
    "#print(a)\n",
    "#print(b)\n",
    "print(end - start)\n",
    "\n",
    "i=0\n",
    "start = time.time()\n",
    "while i < 50:  \n",
    "    a = emitter(b'Uma mensagem fantastica e grande')\n",
    "    b = receiver()\n",
    "    i+=1\n",
    "end = time.time()\n",
    "#print(a)\n",
    "#print(b)\n",
    "print(end - start)"
   ]
  },
  {
   "cell_type": "code",
   "execution_count": null,
   "metadata": {},
   "outputs": [],
   "source": []
  },
  {
   "cell_type": "code",
   "execution_count": null,
   "metadata": {},
   "outputs": [],
   "source": []
  }
 ],
 "metadata": {
  "kernelspec": {
   "display_name": "Python 3",
   "language": "python",
   "name": "python3"
  },
  "language_info": {
   "codemirror_mode": {
    "name": "ipython",
    "version": 3
   },
   "file_extension": ".py",
   "mimetype": "text/x-python",
   "name": "python",
   "nbconvert_exporter": "python",
   "pygments_lexer": "ipython3",
   "version": "3.8.5"
  }
 },
 "nbformat": 4,
 "nbformat_minor": 4
}
