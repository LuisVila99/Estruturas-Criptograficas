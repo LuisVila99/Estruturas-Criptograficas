{
 "cells": [
  {
   "cell_type": "markdown",
   "metadata": {},
   "source": [
    "# Problema 2\n",
    "O problema para o qual se apresenta a seguinte solução, é o da criação de uma cifra a partir de um gerado pseudoaleatório de palavras de 64 bits. Para a concretização de tal solução foi necessária a criação de um gerador pseudoaleatório que faça uso do algoritmo SHAKE256, de modo a gerar uma sequência de palavras de 64 bits. Este output irá ser usado para cifrar uma mensagem com blocos de 64 bits, onde as palavras geradas pelo gerador pseudoaleatório servirão como máscaras XOR destes últimos.\n",
    "Por fim foi calculada a eficiência desta cifra comparativamente à cifra do Problema 1."
   ]
  },
  {
   "cell_type": "markdown",
   "metadata": {},
   "source": [
    "## Imports"
   ]
  },
  {
   "cell_type": "code",
   "execution_count": 9,
   "metadata": {},
   "outputs": [],
   "source": [
    "import time\n",
    "import socket\n",
    "import math\n",
    "import sys\n",
    "import os\n",
    "from cryptography.hazmat.primitives.hashes import SHAKE256\n",
    "from cryptography.hazmat.primitives import hashes, hmac\n",
    "from cryptography.hazmat.backends import default_backend\n",
    "from cryptography.hazmat.primitives.kdf.pbkdf2 import PBKDF2HMAC\n",
    "from cryptography.hazmat.primitives.ciphers import (\n",
    "    Cipher, algorithms, modes\n",
    ")"
   ]
  },
  {
   "cell_type": "markdown",
   "metadata": {},
   "source": [
    "## Gerador de palavras pseudoaleatórias de 64 bits"
   ]
  },
  {
   "cell_type": "code",
   "execution_count": 10,
   "metadata": {},
   "outputs": [],
   "source": [
    "def generator(N, key):\n",
    "    tamanho = 8 * pow(2, N) #Cálculo do número de bytes que queremos que tenha o output do SHAKE256\n",
    "    palavras = list() #Onde se vão armazenar as palavras de 64 bits \n",
    "\n",
    "    digest = hashes.Hash(hashes.SHAKE256(tamanho))\n",
    "    digest.update(key)\n",
    "    x = digest.finalize() #Resultado do SHAKE256\n",
    "\n",
    "    chonk = len(x) // pow(2,N)\n",
    "    i=0\n",
    "    while i < pow(2,N): #Divide-se o valor da variavel x em blocos de 64 bits que se guardam em palavras\n",
    "        palavras.append(x[:chonk])\n",
    "        x=x[chonk:]\n",
    "        i+=1 \n",
    "    return palavras"
   ]
  },
  {
   "cell_type": "markdown",
   "metadata": {},
   "source": [
    "## Função de cifragem"
   ]
  },
  {
   "cell_type": "code",
   "execution_count": 11,
   "metadata": {},
   "outputs": [],
   "source": [
    "def cifra(msg):\n",
    "    kdf = PBKDF2HMAC(\n",
    "        algorithm=hashes.SHA256(),\n",
    "        length=32,\n",
    "        salt=b'salt',\n",
    "        iterations=100000,\n",
    "        backend=default_backend()\n",
    "    )\n",
    "    k = kdf.derive(b\"the greatest password\") #Derivação de uma chave a partir de uma string de bytes que funciona como password\n",
    "    tam = math.ceil(math.sqrt(len(msg.encode('utf-8')))) # Cálculo do valor N necessário passar ao generator  \n",
    "    key=generator(tam, k) # guardamos em key o valor do generator\n",
    "    chonk = len(key[0]) # guardamos aqui o tamanho da primeira palavra resultante do generator, que será o mesmo tamanho das\n",
    "                        # outras, excetuando eventualmente o da última palavra\n",
    "    i=0\n",
    "    temp = '' # Resultado da cifragem\n",
    "    while len(msg) > 0:\n",
    "        if(len(msg) > chonk): # Para cada bloco de mensagem original, utilizamos como máscara XOR um bloco do generator\n",
    "            temp += cif_aux(msg[:chonk], key[i])\n",
    "            msg=msg[chonk:]\n",
    "        else:\n",
    "            temp += cif_aux(msg, key[i])\n",
    "            msg=b''\n",
    "        i+=1\n",
    "    return temp"
   ]
  },
  {
   "cell_type": "markdown",
   "metadata": {},
   "source": [
    "## Função de decifragem"
   ]
  },
  {
   "cell_type": "code",
   "execution_count": 12,
   "metadata": {
    "scrolled": true
   },
   "outputs": [],
   "source": [
    "def decifra(msg): #Análoga à função de cifragem, aplicando a operação XOR à mensagem cifrada que recebe como argumento e ao que\n",
    "                  #calcula com recurso à função generator\n",
    "    kdf = PBKDF2HMAC( \n",
    "        algorithm=hashes.SHA256(),\n",
    "        length=32,\n",
    "        salt=b'salt',\n",
    "        iterations=100000,\n",
    "        backend=default_backend()\n",
    "    )\n",
    "    k = kdf.derive(b\"the greatest password\") #Derivação de uma chave a partir de uma string de bytes que funciona como password\n",
    "    \n",
    "    tam = math.ceil(math.sqrt(len(msg.encode('utf-8'))))  \n",
    "    key=generator(tam, k)\n",
    "    chonk = len(key[0]) #8\n",
    "    i=0\n",
    "    temp = ''\n",
    "    while len(msg) > 0:\n",
    "        if(len(msg) > chonk): \n",
    "            temp += cif_aux(msg[:chonk], key[i])\n",
    "            msg=msg[chonk:]\n",
    "        else:\n",
    "            temp += cif_aux(msg, key[i])\n",
    "            msg=''\n",
    "        i+=1\n",
    "    return temp"
   ]
  },
  {
   "cell_type": "markdown",
   "metadata": {},
   "source": [
    "## Função auxiliar à cifragem/decifragem\n",
    "Função que itera duas strings, aplicando a operação de XOR em cada iteração entre as duas strings "
   ]
  },
  {
   "cell_type": "code",
   "execution_count": 13,
   "metadata": {},
   "outputs": [],
   "source": [
    "def cif_aux(str1, str2):\n",
    "    i = 0\n",
    "    r = ''\n",
    "    while i < len(str1):\n",
    "        r += chr(ord(str1[i])^str2[i])\n",
    "        i+=1\n",
    "    return r"
   ]
  },
  {
   "cell_type": "markdown",
   "metadata": {},
   "source": [
    "## Casos de teste e medição do tempo que demora a executar"
   ]
  },
  {
   "cell_type": "code",
   "execution_count": 14,
   "metadata": {},
   "outputs": [
    {
     "name": "stdout",
     "output_type": "stream",
     "text": [
      "k_\u000b",
      "(\u0014ÞYL^lØo*ö»k\"w¨ØôD;[àú/à\n",
      "Uma mensagem fantastica e grande\n",
      "0.16455864906311035\n",
      "1.509648084640503\n",
      "7.7533347606658936\n"
     ]
    }
   ],
   "source": [
    "i=0\n",
    "start = time.time()\n",
    "while i < 1: \n",
    "    a=cifra('Uma mensagem fantastica e grande')\n",
    "    b=decifra(a)\n",
    "    i+=1\n",
    "end = time.time()\n",
    "print(a)\n",
    "print(b)\n",
    "print(end - start)\n",
    "\n",
    "i=0\n",
    "start = time.time()\n",
    "while i < 10: \n",
    "    a=cifra('Uma mensagem fantastica e grande')\n",
    "    b=decifra(a)\n",
    "    i+=1\n",
    "end = time.time()\n",
    "#print(a)\n",
    "#print(b)\n",
    "print(end - start)\n",
    "\n",
    "i=0\n",
    "start = time.time()\n",
    "while i < 50: \n",
    "    a=cifra('Uma mensagem fantastica e grande')\n",
    "    b=decifra(a)\n",
    "    i+=1\n",
    "end = time.time()\n",
    "#print(a)\n",
    "#print(b)\n",
    "print(end - start)"
   ]
  },
  {
   "cell_type": "code",
   "execution_count": null,
   "metadata": {},
   "outputs": [],
   "source": []
  },
  {
   "cell_type": "code",
   "execution_count": null,
   "metadata": {},
   "outputs": [],
   "source": []
  },
  {
   "cell_type": "code",
   "execution_count": null,
   "metadata": {},
   "outputs": [],
   "source": []
  }
 ],
 "metadata": {
  "kernelspec": {
   "display_name": "Python 3",
   "language": "python",
   "name": "python3"
  },
  "language_info": {
   "codemirror_mode": {
    "name": "ipython",
    "version": 3
   },
   "file_extension": ".py",
   "mimetype": "text/x-python",
   "name": "python",
   "nbconvert_exporter": "python",
   "pygments_lexer": "ipython3",
   "version": "3.8.5"
  }
 },
 "nbformat": 4,
 "nbformat_minor": 4
}
