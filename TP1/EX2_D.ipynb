{
 "cells": [
  {
   "cell_type": "markdown",
   "metadata": {},
   "source": [
    "# ECDSA"
   ]
  },
  {
   "cell_type": "markdown",
   "metadata": {},
   "source": [
    "Aqui encontra-se deifinida uma classe em **Python** que implementa o algoritmo ECDSA. Para a construção deste algoritmo serão utilizados parâmetros a partir da curva NIST **P-224**. Isto vai permitir gerar a curva elíptica associada, bem como o seu ponto gerador e chaves pública e privada. O uso de uma instância desta classe irá permitir **assinar uma mensagem** e respectiva **verificação da assinatura da mensagem**."
   ]
  },
  {
   "cell_type": "code",
   "execution_count": 4,
   "metadata": {},
   "outputs": [],
   "source": [
    "import hashlib\n",
    "from sage.crypto.util import ascii_to_bin, bin_to_ascii\n",
    "\n",
    "def hash_message(message):\n",
    "    digest = hashlib.sha256(message).hexdigest()\n",
    "    return digest\n",
    "\n",
    "def convert_to_ZZ(message):\n",
    "    raw = ascii_to_bin(message)\n",
    "    return ZZ(int(str(raw),2))\n",
    "\n",
    "def bpf(factors):\n",
    "    f = 0\n",
    "    for pair in factors:\n",
    "        p = pair[0]\n",
    "        if p > f:\n",
    "            f = p\n",
    "    return f"
   ]
  },
  {
   "cell_type": "code",
   "execution_count": 42,
   "metadata": {},
   "outputs": [
    {
     "name": "stdout",
     "output_type": "stream",
     "text": [
      "break1\n",
      "break2\n",
      "Assinatura: OK\n"
     ]
    }
   ],
   "source": [
    "# Curva P-224 FIPS 186-4\n",
    "\n",
    "class myECDSA():\n",
    "    # tabelamento da curva P-224\n",
    "    global NIST\n",
    "    NIST = dict()\n",
    "    NIST['P-224'] = {\n",
    "        'p': 26959946667150639794667015087019630673557916260026308143510066298881,\n",
    "        'n': 26959946667150639794667015087019625940457807714424391721682722368061,\n",
    "        'seed': 'bd71344799d5c7fcdc45b59fa3b9ab8f6a948bc5',\n",
    "        'c': '5b056c7e11dd68f40469ee7f3c7a7d74f7d121116506d031218291fb',\n",
    "        'b': 'b4050a850c04b3abF54132565044b0b7d7bfd8ba270b39432355ffb4',\n",
    "        'Gx': 'b70e0cbd6bb4bf7f321390b94a03c1d356c21122343280d6115c1d21',\n",
    "        'Gy': 'bd376388b5f723fb4c22dfe6cd4375a05a07476444d5819985007e34'\n",
    "    }\n",
    "\n",
    "    def __init__(self):\n",
    "        p224dic = NIST['P-224']\n",
    "        p = p224dic['p']\n",
    "        self.n = p224dic['n']\n",
    "        b = ZZ(p224dic['b'],16)\n",
    "        Gx = ZZ(p224dic['Gx'],16)\n",
    "        Gy = ZZ(p224dic['Gy'],16)\n",
    "\n",
    "        self.E = EllipticCurve(GF(p),[-3,b])\n",
    "        self.G = self.E((Gx,Gy))\n",
    "        self.private_key = ZZ.random_element(1,n-1)\n",
    "        self.public_key = self.private_key * self.G\n",
    "        \n",
    "        \n",
    "        \n",
    "    def sign(self,msg):\n",
    "        m = msg.encode('utf-8')\n",
    "        digest = hash_message(m)\n",
    "        digest = convert_to_ZZ(digest)\n",
    "        loop_again1 = False\n",
    "        while not loop_again1:\n",
    "            print(\"break1\")\n",
    "            loop_again2 = False\n",
    "            k = ZZ.random_element(1,n-1)\n",
    "            r_point = k * self.G\n",
    "            r = Mod(r_point[0],n)\n",
    "            if r > 0:\n",
    "                while not loop_again2:\n",
    "                    print(\"break2\")\n",
    "                    k_inverse = inverse_mod(k,n)\n",
    "                    temp_calc = k_inverse * (digest + (r*self.private_key))\n",
    "                    s = ZZ(Mod(temp_calc,self.n))\n",
    "                    if s > 0 :\n",
    "                        loop_again1 = True \n",
    "                        loop_again2 = True\n",
    "        \n",
    "        return r,s\n",
    "    \n",
    "    \n",
    "    \n",
    "    def verify(self,msg,sig):\n",
    "        m = msg.encode('utf-8')\n",
    "        sig_r = sig[0]\n",
    "        sig_s = sig[1]\n",
    "        if (sig_r < 1 or sig_r > self.n -1 or sig_s < 1 or sig_s > self.n - 1):\n",
    "            return False\n",
    "        else:\n",
    "            digest = hash_message(m)\n",
    "            digest = convert_to_ZZ(digest)\n",
    "            w = inverse_mod(sig_s,self.n)\n",
    "            u1 = ZZ(Mod(digest*w,self.n))\n",
    "            u2 = ZZ(Mod(sig_r*w,self.n))\n",
    "            cp = u1*self.G + u2*self.public_key\n",
    "            if Mod(cp[0],self.n) == Mod(sig_r,self.n):\n",
    "                return True\n",
    "            else:\n",
    "                return False\n",
    "        \n",
    "\n",
    "e = myECDSA()\n",
    "msg = \"Mensagem super ultra mega secreta impossível de decifrar\"\n",
    "r,s = e.sign(msg)\n",
    "if e.verify(msg,(r,s)):\n",
    "    print('Assinatura: OK')\n",
    "else:\n",
    "    print('Assinatura: Not OK')"
   ]
  },
  {
   "cell_type": "code",
   "execution_count": 28,
   "metadata": {},
   "outputs": [
    {
     "name": "stdout",
     "output_type": "stream",
     "text": [
      "17280469182868680706783743241218138825423617829831988210139911032887\n"
     ]
    }
   ],
   "source": [
    "n = 26959946667150639794667015087019625940457807714424391721682722368061\n",
    "k = ZZ.random_element(1,n-1)\n",
    "print(k)"
   ]
  },
  {
   "cell_type": "code",
   "execution_count": null,
   "metadata": {},
   "outputs": [],
   "source": []
  }
 ],
 "metadata": {
  "kernelspec": {
   "display_name": "SageMath 9.2",
   "language": "sage",
   "name": "sagemath"
  },
  "language_info": {
   "codemirror_mode": {
    "name": "ipython",
    "version": 3
   },
   "file_extension": ".py",
   "mimetype": "text/x-python",
   "name": "python",
   "nbconvert_exporter": "python",
   "pygments_lexer": "ipython3",
   "version": "3.7.7"
  }
 },
 "nbformat": 4,
 "nbformat_minor": 4
}
