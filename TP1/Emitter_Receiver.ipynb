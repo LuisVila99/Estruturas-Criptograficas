{
 "cells": [
  {
   "cell_type": "code",
   "execution_count": 98,
   "metadata": {},
   "outputs": [],
   "source": [
    "import os\n",
    "from cryptography.hazmat.primitives.ciphers import (Cipher, algorithms, modes)\n",
    "from cryptography.hazmat.primitives.kdf.pbkdf2 import PBKDF2HMAC\n",
    "from cryptography.hazmat.primitives import hashes, hmac\n",
    "from cryptography.hazmat.backends import default_backend\n",
    "from cryptography.hazmat.primitives.asymmetric import dsa\n",
    "from cryptography.hazmat.primitives.asymmetric import ec\n",
    "\n",
    "def nounceGenerator(tam):\n",
    "    return os.urandom(tam)\n",
    "\n",
    "def cifragem(plaintext):\n",
    "    iv = nounceGenerator(12)\n",
    "    password = b'chave secreta'\n",
    "    nounce = nounceGenerator(16)\n",
    "    \n",
    "    kdf = PBKDF2HMAC(\n",
    "        algorithm=hashes.SHA256(),\n",
    "        length=32,\n",
    "        salt=nounce,\n",
    "        iterations=100000,\n",
    "        backend=default_backend()\n",
    "    )\n",
    "    key = kdf.derive(password) \n",
    "    \n",
    "    encryptor = Cipher(\n",
    "        algorithms.AES(key),\n",
    "        modes.GCM(iv),\n",
    "        backend=default_backend()\n",
    "    ).encryptor()\n",
    "    \n",
    "    ciphertext = encryptor.update(plaintext) + encryptor.finalize()\n",
    "    \n",
    "    private_key = dsa.generate_private_key(key_size=1024,)\n",
    "    sign = private_key.sign(ciphertext, hashes.SHA256())\n",
    "    \n",
    "    return (ciphertext, iv, encryptor.tag, nounce, sign, private_key.public_key())\n",
    "\n",
    "\n",
    "def decifragem(ciphertext, iv, tag, nounce, sign, public_key):\n",
    "    password = b'chave secreta'\n",
    "    \n",
    "    kdf = PBKDF2HMAC(\n",
    "        algorithm=hashes.SHA256(),\n",
    "        length=32,\n",
    "        salt=nounce,\n",
    "        iterations=100000,\n",
    "        backend=default_backend()\n",
    "    )\n",
    "    key = kdf.derive(password) \n",
    "    \n",
    "    \n",
    "    public_key.verify(\n",
    "        sign,\n",
    "        ciphertext,\n",
    "        hashes.SHA256()\n",
    "    )\n",
    "    \n",
    "    \n",
    "    \n",
    "    decryptor = Cipher(\n",
    "        algorithms.AES(key),\n",
    "        modes.GCM(iv, tag),\n",
    "        backend=default_backend()\n",
    "    ).decryptor()\n",
    "    \n",
    "    return decryptor.update(ciphertext) + decryptor.finalize()"
   ]
  },
  {
   "cell_type": "code",
   "execution_count": 99,
   "metadata": {},
   "outputs": [
    {
     "name": "stdout",
     "output_type": "stream",
     "text": [
      "b'\\t\\xbc\\xab\\x8b\\xb8k\\x95\\xd9\\x90\\xe1\\xdf\\x94\\x81' b'\\xcc\\x0f\\xf1L\\xc2\\x08?]\\xe9\\x9aT\\xae' b'\\xca\\xc4\\x19\\x1f\\xe0\\x84\\xc3!(%\\xdf:\\xb4\\xc8A\\x10' b'\\x0ch*\\xb1?7\\x8b>n\\xe3\\xa5\\xd2Y8j\\xf9' b'0-\\x02\\x15\\x00\\x99N\\xc5\\xe8\\xfe;\\xec\\x9f\\xb2\\x1f\\x15\\xeb\\xcfF\\xdc\\xa6i\\xdau$\\x02\\x14z\\x8fR\\xdd\\x89\\xaa\\xcb\\xad#\\xb5\\x0fJ\\x04\\x8f\\x83.\\xb1.\\xcc6' <cryptography.hazmat.backends.openssl.dsa._DSAPublicKey object at 0x00000275865B4910>\n",
      "b'boas maltinha'\n"
     ]
    }
   ],
   "source": [
    "(a, b, c, d, e, f) = cifragem(b'boas maltinha')\n",
    "print(a, b, c, d, e, f)\n",
    "res = decifragem(a, b, c, d, e, f)\n",
    "print(res)"
   ]
  },
  {
   "cell_type": "code",
   "execution_count": 100,
   "metadata": {},
   "outputs": [],
   "source": [
    "def cifragem2(plaintext):\n",
    "    iv = nounceGenerator(12)\n",
    "    password = b'chave secreta'\n",
    "    nounce = nounceGenerator(16)\n",
    "    \n",
    "    kdf = PBKDF2HMAC(\n",
    "        algorithm=hashes.SHA256(),\n",
    "        length=32,\n",
    "        salt=nounce,\n",
    "        iterations=100000,\n",
    "        backend=default_backend()\n",
    "    )\n",
    "    key = kdf.derive(password) \n",
    "    \n",
    "    encryptor = Cipher(\n",
    "        algorithms.AES(key),\n",
    "        modes.GCM(iv),\n",
    "        backend=default_backend()\n",
    "    ).encryptor()\n",
    "    \n",
    "    ciphertext = encryptor.update(plaintext) + encryptor.finalize()\n",
    "    \n",
    "    private_key = ec.generate_private_key(\n",
    "    ec.SECP384R1()\n",
    "    )\n",
    "    sign = private_key.sign(\n",
    "    ciphertext,\n",
    "    ec.ECDSA(hashes.SHA256())\n",
    "    )\n",
    "    \n",
    "    return (ciphertext, iv, encryptor.tag, nounce, sign, private_key.public_key())\n",
    "\n",
    "\n",
    "def decifragem2(ciphertext, iv, tag, nounce, sign, public_key):\n",
    "    password = b'chave secreta'\n",
    "    \n",
    "    kdf = PBKDF2HMAC(\n",
    "        algorithm=hashes.SHA256(),\n",
    "        length=32,\n",
    "        salt=nounce,\n",
    "        iterations=100000,\n",
    "        backend=default_backend()\n",
    "    )\n",
    "    key = kdf.derive(password) \n",
    "    \n",
    "    \n",
    "    public_key.verify(sign, ciphertext, ec.ECDSA(hashes.SHA256()))\n",
    "    \n",
    "    \n",
    "    \n",
    "    decryptor = Cipher(\n",
    "        algorithms.AES(key),\n",
    "        modes.GCM(iv, tag),\n",
    "        backend=default_backend()\n",
    "    ).decryptor()\n",
    "    \n",
    "    return decryptor.update(ciphertext) + decryptor.finalize()"
   ]
  },
  {
   "cell_type": "code",
   "execution_count": 101,
   "metadata": {},
   "outputs": [
    {
     "name": "stdout",
     "output_type": "stream",
     "text": [
      "b'3\\xd7d/\\xac\\xe9p]M\\xe5\\xdc\\xa4\\xec' b\"\\xa4\\xb1\\x87A'P:\\x9aG\\x8dB\\xd3\" b'\\x81(;\\xb2\\xaaC\\x9c\\xff>\\xaa\\x82\\x1a\\x0e\\xe6\\xf9\\xdd' b'~\\x92\\xac\\xc2\\xe9\\xf5\\xce\\xfd\\x95\\xd6\\xf3,\\n\\xce\\x058' b'0f\\x021\\x00\\x8d\\xa9\\x89\\x86f\\xeff\\x0b\\xc0 G\\xd7\\xf9wo\\x88<pK\\x19\\xb5\\xccy\\x9c\\xd7\\x81\\x14+\\x80l`\\xf0T\\xa9\\x02\\xc0\\xfd\\x13\\x00\\x03\\x01\\x19u\\xba\\xdeY\\x9d\\x00\\x021\\x00\\xaf\\x13?\\xc4~\"U$ Ca(\\x1f(\\xbc\\xbbW\\rN\\xa83\\xc87E{.\\xef=g\\x14q\\xf9\\xf7\\x13\\x95N\\x91]\\x85\\x18@\\x1e\\xfc\\x8cv\\x90\\x1ax' <cryptography.hazmat.backends.openssl.ec._EllipticCurvePublicKey object at 0x00000275865D5CD0>\n",
      "b'boas maltinha'\n"
     ]
    }
   ],
   "source": [
    "(a, b, c, d, e, f) = cifragem2(b'boas maltinha')\n",
    "print(a, b, c, d, e, f)\n",
    "res = decifragem2(a, b, c, d, e, f)\n",
    "print(res)"
   ]
  },
  {
   "cell_type": "code",
   "execution_count": null,
   "metadata": {},
   "outputs": [],
   "source": []
  }
 ],
 "metadata": {
  "kernelspec": {
   "display_name": "Python 3",
   "language": "python",
   "name": "python3"
  },
  "language_info": {
   "codemirror_mode": {
    "name": "ipython",
    "version": 3
   },
   "file_extension": ".py",
   "mimetype": "text/x-python",
   "name": "python",
   "nbconvert_exporter": "python",
   "pygments_lexer": "ipython3",
   "version": "3.8.5"
  }
 },
 "nbformat": 4,
 "nbformat_minor": 4
}
