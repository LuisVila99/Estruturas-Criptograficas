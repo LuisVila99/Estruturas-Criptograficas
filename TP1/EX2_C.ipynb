{
 "cells": [
  {
   "cell_type": "code",
   "execution_count": 89,
   "metadata": {},
   "outputs": [],
   "source": [
    "from random import randrange\n",
    "from hashlib import sha1\n",
    "from gmpy2 import xmpz, to_binary, invert, powmod, is_prime\n",
    "\n",
    "# Gerar Q\n",
    "\n",
    "def generate_q(N):\n",
    "    g = N\n",
    "    while True:\n",
    "        s = xmpz(randrange(1, 2 ** (g)))\n",
    "        a = sha1(to_binary(s)).hexdigest()\n",
    "        zz = xmpz((s + 1) % (2 ** g))\n",
    "        z = sha1(to_binary(zz)).hexdigest()\n",
    "        U = int(a, 16) ^ int(z, 16)\n",
    "        mask = 2 ** (N - 1) + 1\n",
    "        q = U | mask\n",
    "        if is_prime(q, 20):\n",
    "            return q\n",
    "    \n",
    "def generate_p_q(L, N):\n",
    "    g = N\n",
    "    n = (L - 1) // g\n",
    "    b = (L - 1) % g\n",
    "    while True:\n",
    "        # gerar q\n",
    "        while True:\n",
    "            s = xmpz(randrange(1, 2 ** (g)))\n",
    "            a = sha1(to_binary(s)).hexdigest()\n",
    "            zz = xmpz((s + 1) % (2 ** g))\n",
    "            z = sha1(to_binary(zz)).hexdigest()\n",
    "            U = int(a, 16) ^ int(z, 16)\n",
    "            mask = 2 ** (N - 1) + 1\n",
    "            q = U | mask\n",
    "            if is_prime(q, 20):\n",
    "                break\n",
    "        # gerar p\n",
    "        i = 0  # contador\n",
    "        j = 2  # offset\n",
    "        while i < 4096:\n",
    "            V = []\n",
    "            for k in range(n + 1):\n",
    "                arg = xmpz((s + j + k) % (2 ** g))\n",
    "                zzv = sha1(to_binary(arg)).hexdigest()\n",
    "                V.append(int(zzv, 16))\n",
    "            W = 0\n",
    "            for qq in range(0, n):\n",
    "                W += V[qq] * 2 ** (160 * qq)\n",
    "            W += (V[n] % 2 ** b) * 2 ** (160 * n)\n",
    "            X = W + 2 ** (L - 1)\n",
    "            c = X % (2 * q)\n",
    "            p = X - c + 1  # p = X - (c - 1)\n",
    "            if p >= 2 ** (L - 1):\n",
    "                if is_prime(p, 10):\n",
    "                    return p, q\n",
    "            i += 1\n",
    "            j += n + 1\n"
   ]
  },
  {
   "cell_type": "code",
   "execution_count": 100,
   "metadata": {},
   "outputs": [
    {
     "name": "stdout",
     "output_type": "stream",
     "text": [
      "0d93e13dd749b65c3f4a1a0cd02f855636cbeccd\n"
     ]
    }
   ],
   "source": [
    "N = 10\n",
    "L = 50\n",
    "#q = generate_q(1024)\n",
    "#print(q)\n",
    "s = xmpz(randrange(1, 2 ** (1024)))\n",
    "a = sha1(to_binary(s)).hexdigest()\n",
    "print(a)"
   ]
  },
  {
   "cell_type": "code",
   "execution_count": null,
   "metadata": {},
   "outputs": [],
   "source": []
  }
 ],
 "metadata": {
  "kernelspec": {
   "display_name": "SageMath 9.2",
   "language": "sage",
   "name": "sagemath"
  },
  "language_info": {
   "codemirror_mode": {
    "name": "ipython",
    "version": 3
   },
   "file_extension": ".py",
   "mimetype": "text/x-python",
   "name": "python",
   "nbconvert_exporter": "python",
   "pygments_lexer": "ipython3",
   "version": "3.7.7"
  }
 },
 "nbformat": 4,
 "nbformat_minor": 4
}
