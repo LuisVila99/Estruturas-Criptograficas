{
 "cells": [
  {
   "cell_type": "markdown",
   "metadata": {},
   "source": [
    "# RSA"
   ]
  },
  {
   "cell_type": "markdown",
   "metadata": {},
   "source": [
    "O objectivo desta fase é a criação de uma classe que implementa o algoritmo RSA, a partir de um parâmetro de segurança que se utiliza para calcular os restantes valores necessários à implementação do RSA.\n",
    "São definidos também métodos de encapsulamento e revelação de uma chave aleatoriamente gerada."
   ]
  },
  {
   "cell_type": "code",
   "execution_count": 1,
   "metadata": {},
   "outputs": [],
   "source": [
    "import random\n",
    "import hashlib\n",
    "\n",
    "\n",
    "class RSA:\n",
    "    def __init__(self, sec_param):\n",
    "        self.sec_param = sec_param #Parametro de segurança #512 p.e.\n",
    "\n",
    "        self.p = next_prime(ZZ.random_element(2^self.sec_param))\n",
    "        self.q = next_prime(ZZ.random_element(2^self.sec_param))\n",
    "        self.n = self.p*self.q\n",
    "        self.phi = (self.p-1)*(self.q-1)\n",
    "        self.e = ZZ.random_element(self.phi)\n",
    "        while(gcd(self.e, self.phi)!=1): #coprime e and phi\n",
    "            self.e = ZZ.random_element(self.phi)\n",
    "        self.d = inverse_mod(self.e, self.phi) #private key\n",
    "        \n",
    "        self.publicKey = (self.n, self.e)\n",
    "        self.privateKey = (self.q, self.p, self.d)\n",
    "        \n",
    "                \n",
    "    def key_wrap(self):\n",
    "        m = ZZ.random_element(self.n)\n",
    "        k = hashlib.sha256(str(m).encode())\n",
    "        return (pow(m,self.e,self.n), k) #wrapped\n",
    "    \n",
    "    def key_unwrap(self, wrap):\n",
    "        r = pow(wrap[0],self.d,self.n)\n",
    "        k = hashlib.sha256(str(r).encode())\n",
    "        print(k.digest() == wrap[1].digest())\n",
    "        return k"
   ]
  },
  {
   "cell_type": "markdown",
   "metadata": {},
   "source": [
    "## Teste"
   ]
  },
  {
   "cell_type": "code",
   "execution_count": 2,
   "metadata": {},
   "outputs": [
    {
     "name": "stdout",
     "output_type": "stream",
     "text": [
      "True\n",
      "29027615317060104459444933875920968706344145577020865444578823474670955983157547986656631609467921575256468761450375483479412340466759706701269884987857044365859055762439905849431201376137014148353008602223937687760818987093996420379395043069859532047518764010783972383716731521909848635280335482794812683849 b\"\\xed\\xc9<'\\xab[\\xd7\\xa4\\xe6\\xa6\\x19\\x7f\\xb9\\xf0\\x8aEPf\\xb6\\x87\\xb0l\\x06\\xea\\x0c\\x952x\\x18>l\\x0f\"\n",
      "b\"\\xed\\xc9<'\\xab[\\xd7\\xa4\\xe6\\xa6\\x19\\x7f\\xb9\\xf0\\x8aEPf\\xb6\\x87\\xb0l\\x06\\xea\\x0c\\x952x\\x18>l\\x0f\"\n"
     ]
    }
   ],
   "source": [
    "obj = RSA(512)\n",
    "a = obj.key_wrap()\n",
    "b = obj.key_unwrap(a)\n",
    "print(a[0], a[1].digest())\n",
    "print(b.digest())"
   ]
  },
  {
   "cell_type": "markdown",
   "metadata": {},
   "source": [
    "# ECDSA"
   ]
  },
  {
   "cell_type": "markdown",
   "metadata": {},
   "source": [
    "Aqui encontra-se definida uma classe em Python que implementa o algoritmo ECDSA. Para a construção deste algoritmo serão utilizados parâmetros a partir da curva NIST P-224. Isto vai permitir gerar a curva elíptica associada, bem como o seu ponto gerador e chaves pública e privada. O uso de uma instância desta classe irá permitir assinar uma mensagem e respectiva verificação da assinatura da mensagem."
   ]
  },
  {
   "cell_type": "markdown",
   "metadata": {},
   "source": [
    "## As 3 funções apresentadas neste esquema são as seguintes:\n",
    "\n",
    "A função *__init(self)__* tem como objetivo inicializar os parâmetros necessários para que seja, posteriormente, possível assinar e verificar mensagens.\n",
    "\n",
    "A função *sign(self,message)* tem como objetivo assinar digitalmente a mensagem message.\n",
    "\n",
    "A função verify(self,message,signature) tem como objetivo verificar a assinatura signature tendo em conta a mensagem."
   ]
  },
  {
   "cell_type": "code",
   "execution_count": 3,
   "metadata": {},
   "outputs": [],
   "source": [
    "import hashlib\n",
    "from sage.crypto.util import ascii_to_bin, bin_to_ascii\n",
    "\n",
    "def convert_to_ZZ(message):\n",
    "    raw = ascii_to_bin(message)\n",
    "    return ZZ(int(str(raw),2))\n"
   ]
  },
  {
   "cell_type": "code",
   "execution_count": 4,
   "metadata": {},
   "outputs": [],
   "source": [
    "# Curva P-224 FIPS 186-4\n",
    "\n",
    "class myECDSA():\n",
    "    # tabelamento da curva P-224\n",
    "    global NIST\n",
    "    NIST = dict()\n",
    "    NIST['P-224'] = {\n",
    "        'p': 26959946667150639794667015087019630673557916260026308143510066298881,\n",
    "        'n': 26959946667150639794667015087019625940457807714424391721682722368061,\n",
    "        'seed': 'bd71344799d5c7fcdc45b59fa3b9ab8f6a948bc5',\n",
    "        'c': '5b056c7e11dd68f40469ee7f3c7a7d74f7d121116506d031218291fb',\n",
    "        'b': 'b4050a850c04b3abF54132565044b0b7d7bfd8ba270b39432355ffb4',\n",
    "        'Gx': 'b70e0cbd6bb4bf7f321390b94a03c1d356c21122343280d6115c1d21',\n",
    "        'Gy': 'bd376388b5f723fb4c22dfe6cd4375a05a07476444d5819985007e34'\n",
    "    }\n",
    "\n",
    "    def __init__(self):\n",
    "        p224dic = NIST['P-224']\n",
    "        p = p224dic['p']\n",
    "        self.n = p224dic['n']\n",
    "        b = ZZ(p224dic['b'],16)\n",
    "        Gx = ZZ(p224dic['Gx'],16)\n",
    "        Gy = ZZ(p224dic['Gy'],16)\n",
    "        \n",
    "        print(type(n))\n",
    "\n",
    "        self.E = EllipticCurve(GF(p),[-3,b])\n",
    "        self.G = self.E((Gx,Gy))\n",
    "        self.private_key = ZZ.random_element(1,self.n-1)\n",
    "        self.public_key = self.private_key * self.G\n",
    "        \n",
    "        \n",
    "        \n",
    "    def sign(self,msg):\n",
    "        m = msg.encode('utf-8')\n",
    "        digest = hashlib.sha256(m).hexdigest()\n",
    "        digest = convert_to_ZZ(digest)\n",
    "        loop_again1 = False\n",
    "        while not loop_again1:\n",
    "            print(\"break1\")\n",
    "            loop_again2 = False\n",
    "            k = ZZ.random_element(1,self.n-1)\n",
    "            r_point = k * self.G\n",
    "            r = Mod(r_point[0],self.n)\n",
    "            if r > 0:\n",
    "                while not loop_again2:\n",
    "                    print(\"break2\")\n",
    "                    k_inverse = inverse_mod(k,self.n)\n",
    "                    temp_calc = k_inverse * (digest + (r*self.private_key))\n",
    "                    s = ZZ(Mod(temp_calc,self.n))\n",
    "                    if s > 0 :\n",
    "                        loop_again1 = True \n",
    "                        loop_again2 = True\n",
    "        \n",
    "        return r,s\n",
    "    \n",
    "    \n",
    "    \n",
    "    def verify(self,msg,sig):\n",
    "        m = msg.encode('utf-8')\n",
    "        sig_r = sig[0]\n",
    "        sig_s = sig[1]\n",
    "        if (sig_r < 1 or sig_r > self.n -1 or sig_s < 1 or sig_s > self.n - 1):\n",
    "            return False\n",
    "        else:\n",
    "            digest = digest = hashlib.sha256(m).hexdigest()\n",
    "            digest = convert_to_ZZ(digest)\n",
    "            w = inverse_mod(sig_s,self.n)\n",
    "            u1 = ZZ(Mod(digest*w,self.n))\n",
    "            u2 = ZZ(Mod(sig_r*w,self.n))\n",
    "            cp = u1*self.G + u2*self.public_key\n",
    "            if Mod(cp[0],self.n) == Mod(sig_r,self.n):\n",
    "                return True\n",
    "            else:\n",
    "                return False\n",
    "        \n",
    "\n"
   ]
  },
  {
   "cell_type": "markdown",
   "metadata": {},
   "source": [
    "## Teste"
   ]
  },
  {
   "cell_type": "code",
   "execution_count": 5,
   "metadata": {},
   "outputs": [
    {
     "name": "stdout",
     "output_type": "stream",
     "text": [
      "<class 'function'>\n",
      "break1\n",
      "break2\n",
      "Assinatura: OK\n"
     ]
    }
   ],
   "source": [
    "e = myECDSA()\n",
    "msg = \"Mensagem super secreta impossível de decifrar\"\n",
    "r,s = e.sign(msg)\n",
    "if e.verify(msg,(r,s)):\n",
    "    print('Assinatura: OK')\n",
    "else:\n",
    "    print('Assinatura: Not OK')"
   ]
  },
  {
   "cell_type": "code",
   "execution_count": null,
   "metadata": {},
   "outputs": [],
   "source": []
  }
 ],
 "metadata": {
  "kernelspec": {
   "display_name": "SageMath 9.2",
   "language": "sage",
   "name": "sagemath"
  },
  "language_info": {
   "codemirror_mode": {
    "name": "ipython",
    "version": 3
   },
   "file_extension": ".py",
   "mimetype": "text/x-python",
   "name": "python",
   "nbconvert_exporter": "python",
   "pygments_lexer": "ipython3",
   "version": "3.7.7"
  }
 },
 "nbformat": 4,
 "nbformat_minor": 4
}
