{
 "cells": [
  {
   "cell_type": "code",
   "execution_count": 13,
   "metadata": {},
   "outputs": [],
   "source": [
    "import random\n",
    "import hashlib\n",
    "#from cryptography.hazmat.primitives import hashes\n",
    "\n",
    "class RSA:\n",
    "    def __init__(self, sec_param):\n",
    "        self.sec_param = sec_param #Parametro de segurança #512 p.e.\n",
    "\n",
    "        self.p = next_prime(ZZ.random_element(2^self.sec_param))\n",
    "        self.q = next_prime(ZZ.random_element(2^self.sec_param))\n",
    "        self.n = self.p*self.q\n",
    "        self.phi = (self.p-1)*(self.q-1)\n",
    "        self.e = ZZ.random_element(self.phi)\n",
    "        while(gcd(self.e, self.phi)!=1): #coprime e and phi\n",
    "            self.e = ZZ.random_element(self.phi)\n",
    "        self.d = inverse_mod(self.e, self.phi) #private key\n",
    "        \n",
    "        self.publicKey = (self.n, self.e)\n",
    "        self.privateKey = (self.q, self.p, self.d)\n",
    "        \n",
    "        #print('public: ', self.publicKey)\n",
    "        #print('private: ', self.privateKey)\n",
    "                \n",
    "            \n",
    "\n",
    "    def key_wrap(self):\n",
    "        m = ZZ.random_element(self.n)\n",
    "        k = hashlib.sha256(str(m).encode())\n",
    "        return pow(m,self.e,self.n) #wrapped\n",
    "    \n",
    "    def key_unwrap(self, wrap):\n",
    "        r = pow(wrap,self.d,self.n)\n",
    "        k = hashlib.sha256(str(r).encode())\n",
    "        return k"
   ]
  },
  {
   "cell_type": "code",
   "execution_count": 14,
   "metadata": {},
   "outputs": [],
   "source": [
    "obj = RSA(512)\n",
    "a = obj.key_wrap()\n",
    "b = obj.key_unwrap(a)"
   ]
  },
  {
   "cell_type": "code",
   "execution_count": 7,
   "metadata": {},
   "outputs": [
    {
     "name": "stdout",
     "output_type": "stream",
     "text": [
      "7\n"
     ]
    }
   ],
   "source": []
  },
  {
   "cell_type": "code",
   "execution_count": null,
   "metadata": {},
   "outputs": [],
   "source": []
  }
 ],
 "metadata": {
  "kernelspec": {
   "display_name": "SageMath 9.2",
   "language": "sage",
   "name": "sagemath"
  },
  "language_info": {
   "codemirror_mode": {
    "name": "ipython",
    "version": 3
   },
   "file_extension": ".py",
   "mimetype": "text/x-python",
   "name": "python",
   "nbconvert_exporter": "python",
   "pygments_lexer": "ipython3",
   "version": "3.7.7"
  }
 },
 "nbformat": 4,
 "nbformat_minor": 4
}
