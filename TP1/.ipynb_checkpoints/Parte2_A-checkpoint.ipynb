{
 "cells": [
  {
   "cell_type": "markdown",
   "metadata": {},
   "source": [
    "# Parte 2\n",
    "## A\n",
    "Nesta fase implementa-se uma classe que implemente um RSA, a partir de um parâmetro de segurança que se utiliza para calcular os restantes valores necessários à implementação do RSA.\n",
    "São definidos também métodos de encapsulamento e revelação de uma chave aleatoriamente gerada."
   ]
  },
  {
   "cell_type": "code",
   "execution_count": 7,
   "metadata": {},
   "outputs": [],
   "source": [
    "import random\n",
    "import hashlib\n",
    "\n",
    "\n",
    "class RSA:\n",
    "    def __init__(self, sec_param):\n",
    "        self.sec_param = sec_param #Parametro de segurança #512 p.e.\n",
    "\n",
    "        self.p = next_prime(ZZ.random_element(2^self.sec_param))\n",
    "        self.q = next_prime(ZZ.random_element(2^self.sec_param))\n",
    "        self.n = self.p*self.q\n",
    "        self.phi = (self.p-1)*(self.q-1)\n",
    "        self.e = ZZ.random_element(self.phi)\n",
    "        while(gcd(self.e, self.phi)!=1): #coprime e and phi\n",
    "            self.e = ZZ.random_element(self.phi)\n",
    "        self.d = inverse_mod(self.e, self.phi) #private key\n",
    "        \n",
    "        self.publicKey = (self.n, self.e)\n",
    "        self.privateKey = (self.q, self.p, self.d)\n",
    "        \n",
    "                \n",
    "    def key_wrap(self):\n",
    "        m = ZZ.random_element(self.n)\n",
    "        k = hashlib.sha256(str(m).encode())\n",
    "        return (pow(m,self.e,self.n), k) #wrapped\n",
    "    \n",
    "    def key_unwrap(self, wrap):\n",
    "        r = pow(wrap[0],self.d,self.n)\n",
    "        k = hashlib.sha256(str(r).encode())\n",
    "        print(k.digest() == wrap[1].digest())\n",
    "        return k"
   ]
  },
  {
   "cell_type": "code",
   "execution_count": 8,
   "metadata": {},
   "outputs": [
    {
     "name": "stdout",
     "output_type": "stream",
     "text": [
      "True\n",
      "12672312407938874145029357978135809590721550770310492984709196014815808897185299115454290247751290057096654657772111663329509644114741516341900820169591207559152537018961319832724389050920231976336964924984425237887432423930862974437355353356800373755074369549085013729299766812585547462262943804538242186380 b'`\\xb1e$D\\xea\\xd6\\xb5G\\xd3\\x07\\xca\\xba\\xc4\\xf4\\x15\\xc8\\x9e\\x91\\x1f?H\\xc0L\\x1dG<\\xf6\\xe2\\x9e$\\xf2'\n",
      "b'`\\xb1e$D\\xea\\xd6\\xb5G\\xd3\\x07\\xca\\xba\\xc4\\xf4\\x15\\xc8\\x9e\\x91\\x1f?H\\xc0L\\x1dG<\\xf6\\xe2\\x9e$\\xf2'\n"
     ]
    }
   ],
   "source": [
    "obj = RSA(512)\n",
    "a = obj.key_wrap()\n",
    "b = obj.key_unwrap(a)\n",
    "print(a[0], a[1].digest())\n",
    "print(b.digest())"
   ]
  },
  {
   "cell_type": "code",
   "execution_count": null,
   "metadata": {},
   "outputs": [],
   "source": []
  }
 ],
 "metadata": {
  "kernelspec": {
   "display_name": "SageMath 9.2",
   "language": "sage",
   "name": "sagemath"
  },
  "language_info": {
   "codemirror_mode": {
    "name": "ipython",
    "version": 3
   },
   "file_extension": ".py",
   "mimetype": "text/x-python",
   "name": "python",
   "nbconvert_exporter": "python",
   "pygments_lexer": "ipython3",
   "version": "3.7.7"
  }
 },
 "nbformat": 4,
 "nbformat_minor": 4
}
