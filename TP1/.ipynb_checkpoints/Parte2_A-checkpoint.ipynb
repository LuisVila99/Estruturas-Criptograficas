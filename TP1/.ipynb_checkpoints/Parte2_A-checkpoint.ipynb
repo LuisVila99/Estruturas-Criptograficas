{
 "cells": [
  {
   "cell_type": "code",
   "execution_count": null,
   "metadata": {},
   "outputs": [],
   "source": [
    "import random\n",
    "from sage.crypto.util import ascii_integer\n",
    "from sage.crypto.util import ascii_to_bin\n",
    "\n",
    "class RSA:\n",
    "    def __init__(self, sec_param):\n",
    "        self.sec_param = sec_param #Parametro de segurança #512 p.e.\n",
    "\n",
    "        self.p = next_prime(ZZ.random_element(2^self.sec_param))\n",
    "        self.q = next_prime(ZZ.random_element(2^self.sec_param))\n",
    "        self.n = self.p*self.q\n",
    "        self.phi = (self.p-1)*(self.q-1)\n",
    "        self.e = ZZ.random_element(self.phi)\n",
    "        while(gcd(self.e, self.phi)!=1): #coprime e and phi\n",
    "            self.e = ZZ.random_element(self.phi)\n",
    "        self.d = inverse_mod(self.e, self.phi) #private key\n",
    "        \n",
    "        self.publicKey = (self.n, self.e)\n",
    "        self.privateKey = (self.q, self.p, self.d)\n",
    "        \n",
    "        print('public: ', self.publicKey)\n",
    "        print('private: ', self.privateKey)\n",
    "                \n",
    "            \n",
    "\n",
    "    def enc(self, message):\n",
    "        m = ZZ.random_element(self.n)\n",
    "        print(message)\n",
    "        return power_mod(m,self.e,self.n)\n",
    "    \n",
    "    def dec(self, ciphertext):\n",
    "        msg = power_mod(ciphertext, self.d, self.n)\n",
    "        print(ciphertext)\n",
    "        print(msg)\n",
    "        return msg"
   ]
  },
  {
   "cell_type": "code",
   "execution_count": null,
   "metadata": {},
   "outputs": [],
   "source": [
    "obj = RSA(512)\n",
    "a = obj.enc(50)\n",
    "b = obj.dec(a)"
   ]
  },
  {
   "cell_type": "code",
   "execution_count": null,
   "metadata": {},
   "outputs": [],
   "source": []
  }
 ],
 "metadata": {
  "kernelspec": {
   "display_name": "SageMath 9.2",
   "language": "sage",
   "name": "sagemath"
  },
  "language_info": {
   "codemirror_mode": {
    "name": "ipython",
    "version": 3
   },
   "file_extension": ".py",
   "mimetype": "text/x-python",
   "name": "python",
   "nbconvert_exporter": "python",
   "pygments_lexer": "ipython3",
   "version": "3.7.7"
  }
 },
 "nbformat": 4,
 "nbformat_minor": 4
}
